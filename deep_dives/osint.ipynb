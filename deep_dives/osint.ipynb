{
 "cells": [
  {
   "cell_type": "markdown",
   "metadata": {},
   "source": [
    "## Open Source INTelligence (OSINT)"
   ]
  },
  {
   "cell_type": "markdown",
   "metadata": {},
   "source": [
    "### Evaluation "
   ]
  },
  {
   "cell_type": "markdown",
   "metadata": {
    "ExecuteTime": {
     "end_time": "2018-05-20T15:22:58.124747Z",
     "start_time": "2018-05-20T15:22:58.067474Z"
    },
    "collapsed": true
   },
   "source": [
    "What are the options?\n",
    "- the data has been processed and it's ready to be downloaded somewhere\n",
    "    - how recent is it?\n",
    "    \n",
    "    \n",
    "- there is a python library for it\n",
    "    - how flexible is it?\n",
    "    \n",
    "    \n",
    "- there is an API for it\n",
    "    - how much does it cost? \n",
    "    - what fraction of the data does it cover?\n",
    "    \n",
    "    \n",
    "- the data has to be scraped\n",
    "    - how long would it take?\n",
    "    - should I do it by hand?\n",
    "    - does the URL accept parameters?"
   ]
  },
  {
   "cell_type": "code",
   "execution_count": 3,
   "metadata": {
    "ExecuteTime": {
     "end_time": "2018-05-24T13:58:03.673799Z",
     "start_time": "2018-05-24T13:58:03.382309Z"
    },
    "collapsed": false
   },
   "outputs": [],
   "source": [
    "# Example of API: RSS feeds\n",
    "import feedparser\n",
    "feed = feedparser.parse('http://feeds.reuters.com/reuters/businessNews')"
   ]
  },
  {
   "cell_type": "code",
   "execution_count": 5,
   "metadata": {
    "ExecuteTime": {
     "end_time": "2018-05-24T13:58:12.234195Z",
     "start_time": "2018-05-24T13:58:12.228207Z"
    },
    "collapsed": false
   },
   "outputs": [
    {
     "data": {
      "text/plain": [
       "10"
      ]
     },
     "execution_count": 5,
     "metadata": {},
     "output_type": "execute_result"
    }
   ],
   "source": [
    "len(feed.entries)"
   ]
  },
  {
   "cell_type": "code",
   "execution_count": 9,
   "metadata": {
    "ExecuteTime": {
     "end_time": "2018-05-24T14:01:03.004236Z",
     "start_time": "2018-05-24T14:01:02.983850Z"
    },
    "collapsed": false
   },
   "outputs": [
    {
     "name": "stdout",
     "output_type": "stream",
     "text": [
      "{'feedburner_origlink': 'http://www.reuters.com/article/us-usa-stocks/wall-street-slips-as-trump-cancels-north-korea-summit-targets-car-imports-idUSKCN1IP1T5?feedType=RSS&feedName=businessNews',\n",
      " 'guidislink': False,\n",
      " 'id': 'http://www.reuters.com/article/us-usa-stocks/wall-street-slips-as-trump-cancels-north-korea-summit-targets-car-imports-idUSKCN1IP1T5?feedType=RSS&feedName=businessNews',\n",
      " 'link': 'http://feeds.reuters.com/~r/reuters/businessNews/~3/hwcuiksmzFg/wall-street-slips-as-trump-cancels-north-korea-summit-targets-car-imports-idUSKCN1IP1T5',\n",
      " 'links': [{'href': 'http://feeds.reuters.com/~r/reuters/businessNews/~3/hwcuiksmzFg/wall-street-slips-as-trump-cancels-north-korea-summit-targets-car-imports-idUSKCN1IP1T5',\n",
      "            'rel': 'alternate',\n",
      "            'type': 'text/html'}],\n",
      " 'published': 'Thu, 24 May 2018 12:41:38 -0400',\n",
      " 'published_parsed': time.struct_time(tm_year=2018, tm_mon=5, tm_mday=24, tm_hour=16, tm_min=41, tm_sec=38, tm_wday=3, tm_yday=144, tm_isdst=0),\n",
      " 'summary': '(Reuters) - U.S. stocks fell on Thursday after President Donald '\n",
      "            'Trump canceled a planned historic summit with North Korean leader '\n",
      "            'Kim Jong Un and threatened tariffs on auto imports while trade '\n",
      "            'tensions with China simmered.<div class=\"feedflare\">\\n'\n",
      "            '<a '\n",
      "            'href=\"http://feeds.reuters.com/~ff/reuters/businessNews?a=hwcuiksmzFg:AjFf1hlwSqY:yIl2AUoC8zA\"><img '\n",
      "            'src=\"http://feeds.feedburner.com/~ff/reuters/businessNews?d=yIl2AUoC8zA\" '\n",
      "            'border=\"0\"></img></a> <a '\n",
      "            'href=\"http://feeds.reuters.com/~ff/reuters/businessNews?a=hwcuiksmzFg:AjFf1hlwSqY:F7zBnMyn0Lo\"><img '\n",
      "            'src=\"http://feeds.feedburner.com/~ff/reuters/businessNews?i=hwcuiksmzFg:AjFf1hlwSqY:F7zBnMyn0Lo\" '\n",
      "            'border=\"0\"></img></a> <a '\n",
      "            'href=\"http://feeds.reuters.com/~ff/reuters/businessNews?a=hwcuiksmzFg:AjFf1hlwSqY:V_sGLiPBpWU\"><img '\n",
      "            'src=\"http://feeds.feedburner.com/~ff/reuters/businessNews?i=hwcuiksmzFg:AjFf1hlwSqY:V_sGLiPBpWU\" '\n",
      "            'border=\"0\"></img></a>\\n'\n",
      "            '</div><img '\n",
      "            'src=\"http://feeds.feedburner.com/~r/reuters/businessNews/~4/hwcuiksmzFg\" '\n",
      "            'height=\"1\" width=\"1\" alt=\"\"/>',\n",
      " 'summary_detail': {'base': 'http://feeds.reuters.com/reuters/businessNews',\n",
      "                    'language': None,\n",
      "                    'type': 'text/html',\n",
      "                    'value': '(Reuters) - U.S. stocks fell on Thursday after '\n",
      "                             'President Donald Trump canceled a planned '\n",
      "                             'historic summit with North Korean leader Kim '\n",
      "                             'Jong Un and threatened tariffs on auto imports '\n",
      "                             'while trade tensions with China simmered.<div '\n",
      "                             'class=\"feedflare\">\\n'\n",
      "                             '<a '\n",
      "                             'href=\"http://feeds.reuters.com/~ff/reuters/businessNews?a=hwcuiksmzFg:AjFf1hlwSqY:yIl2AUoC8zA\"><img '\n",
      "                             'src=\"http://feeds.feedburner.com/~ff/reuters/businessNews?d=yIl2AUoC8zA\" '\n",
      "                             'border=\"0\"></img></a> <a '\n",
      "                             'href=\"http://feeds.reuters.com/~ff/reuters/businessNews?a=hwcuiksmzFg:AjFf1hlwSqY:F7zBnMyn0Lo\"><img '\n",
      "                             'src=\"http://feeds.feedburner.com/~ff/reuters/businessNews?i=hwcuiksmzFg:AjFf1hlwSqY:F7zBnMyn0Lo\" '\n",
      "                             'border=\"0\"></img></a> <a '\n",
      "                             'href=\"http://feeds.reuters.com/~ff/reuters/businessNews?a=hwcuiksmzFg:AjFf1hlwSqY:V_sGLiPBpWU\"><img '\n",
      "                             'src=\"http://feeds.feedburner.com/~ff/reuters/businessNews?i=hwcuiksmzFg:AjFf1hlwSqY:V_sGLiPBpWU\" '\n",
      "                             'border=\"0\"></img></a>\\n'\n",
      "                             '</div><img '\n",
      "                             'src=\"http://feeds.feedburner.com/~r/reuters/businessNews/~4/hwcuiksmzFg\" '\n",
      "                             'height=\"1\" width=\"1\" alt=\"\"/>'},\n",
      " 'tags': [{'label': None, 'scheme': None, 'term': 'businessNews'}],\n",
      " 'title': 'Wall Street slips as Trump cancels North Korea summit, targets car '\n",
      "          'imports',\n",
      " 'title_detail': {'base': 'http://feeds.reuters.com/reuters/businessNews',\n",
      "                  'language': None,\n",
      "                  'type': 'text/plain',\n",
      "                  'value': 'Wall Street slips as Trump cancels North Korea '\n",
      "                           'summit, targets car imports'}}\n"
     ]
    }
   ],
   "source": [
    "from pprint import PrettyPrinter\n",
    "PPRINTER = PrettyPrinter()\n",
    "PPRINTER.pprint(feed.entries[0])"
   ]
  },
  {
   "cell_type": "code",
   "execution_count": null,
   "metadata": {
    "collapsed": true
   },
   "outputs": [],
   "source": []
  }
 ],
 "metadata": {
  "kernelspec": {
   "display_name": "Python 3",
   "language": "python",
   "name": "python3"
  },
  "language_info": {
   "codemirror_mode": {
    "name": "ipython",
    "version": 3
   },
   "file_extension": ".py",
   "mimetype": "text/x-python",
   "name": "python",
   "nbconvert_exporter": "python",
   "pygments_lexer": "ipython3",
   "version": "3.6.0"
  }
 },
 "nbformat": 4,
 "nbformat_minor": 2
}
