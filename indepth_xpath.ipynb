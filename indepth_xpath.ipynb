{
 "cells": [
  {
   "cell_type": "markdown",
   "metadata": {},
   "source": [
    "## XPath"
   ]
  },
  {
   "cell_type": "markdown",
   "metadata": {},
   "source": [
    "XPath uses \"path-like\" syntax to identify and navigate nodes in an XML document. These path expressions look very much like the path expressions you use with traditional computer file systems.\n",
    "\n",
    "HTML pages are treated as **trees of nodes**. The topmost element of the tree is called the `root` element."
   ]
  },
  {
   "cell_type": "code",
   "execution_count": 1,
   "metadata": {
    "ExecuteTime": {
     "end_time": "2018-05-20T13:56:58.889616Z",
     "start_time": "2018-05-20T13:56:58.852623Z"
    },
    "collapsed": true
   },
   "outputs": [],
   "source": [
    "# In python, xpath is supported by the \"lxml\" module.\n",
    "from lxml import html"
   ]
  },
  {
   "cell_type": "code",
   "execution_count": 2,
   "metadata": {
    "ExecuteTime": {
     "end_time": "2018-05-20T13:56:58.899651Z",
     "start_time": "2018-05-20T13:56:58.891501Z"
    },
    "collapsed": true
   },
   "outputs": [],
   "source": [
    "html_page = \"\"\"\n",
    "<html>\n",
    "    <head>\n",
    "        <title>Page Title</title>\n",
    "    </head>\n",
    "    <body>\n",
    "        <h1>This is an amazing heading</h1>\n",
    "        <p>This is a fantastic paragraph.</p>\n",
    "        <a href=\"https://www.georgetown.edu/\">This is an awesome link</a>\n",
    "        <ul id=\"unordered_list\">\n",
    "            <li>Jason Schloetzer</li>\n",
    "            <li>Bill Smith</li>\n",
    "            <li>Barney Stinson</li>\n",
    "        </ul>\n",
    "    </body>\n",
    "</html>\n",
    "\"\"\""
   ]
  },
  {
   "cell_type": "markdown",
   "metadata": {},
   "source": [
    "Any HTML document is equivalent to a tree:\n",
    "![html_tree](img/html_tree.png)"
   ]
  },
  {
   "cell_type": "code",
   "execution_count": 3,
   "metadata": {
    "ExecuteTime": {
     "end_time": "2018-05-20T13:56:58.908486Z",
     "start_time": "2018-05-20T13:56:58.902476Z"
    },
    "collapsed": false
   },
   "outputs": [],
   "source": [
    "tree = html.fromstring(html_page)"
   ]
  },
  {
   "cell_type": "code",
   "execution_count": 4,
   "metadata": {
    "ExecuteTime": {
     "end_time": "2018-05-20T13:56:58.933915Z",
     "start_time": "2018-05-20T13:56:58.911243Z"
    },
    "collapsed": false
   },
   "outputs": [
    {
     "data": {
      "text/plain": [
       "<Element html at 0x106a75db8>"
      ]
     },
     "execution_count": 4,
     "metadata": {},
     "output_type": "execute_result"
    }
   ],
   "source": [
    "tree"
   ]
  },
  {
   "cell_type": "markdown",
   "metadata": {},
   "source": [
    "- Each element has one parent.\n",
    "- Elements may have 0 or any number of children.\n",
    "- **`Siblings`** = nodes with the same parent\n",
    "- **`Ancestors`** = the node's parent, parent's parent, etc.\n",
    "- **`Descendants`** = the node's children, children's children, etc.\n",
    "\n",
    "In XPath, there are 7 kinds of nodes: \n",
    "- element\n",
    "- attribute\n",
    "- text\n",
    "- namespace\n",
    "- processing-instruction\n",
    "- comment\n",
    "- document nodes\n",
    "\n",
    "We'll only focus on the first 3."
   ]
  },
  {
   "cell_type": "code",
   "execution_count": 5,
   "metadata": {
    "ExecuteTime": {
     "end_time": "2018-05-20T13:56:58.947601Z",
     "start_time": "2018-05-20T13:56:58.937258Z"
    },
    "collapsed": false
   },
   "outputs": [
    {
     "data": {
      "text/plain": [
       "[<Element head at 0x106a75ea8>, <Element body at 0x106a89318>]"
      ]
     },
     "execution_count": 5,
     "metadata": {},
     "output_type": "execute_result"
    }
   ],
   "source": [
    "tree.getchildren()"
   ]
  },
  {
   "cell_type": "code",
   "execution_count": 6,
   "metadata": {
    "ExecuteTime": {
     "end_time": "2018-05-20T13:56:58.963632Z",
     "start_time": "2018-05-20T13:56:58.951181Z"
    },
    "collapsed": false
   },
   "outputs": [
    {
     "data": {
      "text/plain": [
       "<Element html at 0x106a75db8>"
      ]
     },
     "execution_count": 6,
     "metadata": {},
     "output_type": "execute_result"
    }
   ],
   "source": [
    "tree.getchildren()[1].getparent()"
   ]
  },
  {
   "cell_type": "code",
   "execution_count": 7,
   "metadata": {
    "ExecuteTime": {
     "end_time": "2018-05-20T13:56:58.973438Z",
     "start_time": "2018-05-20T13:56:58.966036Z"
    },
    "collapsed": false
   },
   "outputs": [
    {
     "data": {
      "text/plain": [
       "[<Element h1 at 0x106a895e8>,\n",
       " <Element p at 0x106a89868>,\n",
       " <Element a at 0x106a898b8>,\n",
       " <Element ul at 0x106a89908>]"
      ]
     },
     "execution_count": 7,
     "metadata": {},
     "output_type": "execute_result"
    }
   ],
   "source": [
    "tree.getchildren()[1].getchildren()"
   ]
  },
  {
   "cell_type": "code",
   "execution_count": 8,
   "metadata": {
    "ExecuteTime": {
     "end_time": "2018-05-20T13:56:58.999265Z",
     "start_time": "2018-05-20T13:56:58.975803Z"
    },
    "collapsed": false
   },
   "outputs": [
    {
     "data": {
      "text/plain": [
       "<Element a at 0x106a898b8>"
      ]
     },
     "execution_count": 8,
     "metadata": {},
     "output_type": "execute_result"
    }
   ],
   "source": [
    "tree.getchildren()[1].getchildren()[2]"
   ]
  },
  {
   "cell_type": "code",
   "execution_count": 9,
   "metadata": {
    "ExecuteTime": {
     "end_time": "2018-05-20T13:56:59.019178Z",
     "start_time": "2018-05-20T13:56:59.002167Z"
    },
    "collapsed": false
   },
   "outputs": [
    {
     "data": {
      "text/plain": [
       "'This is an awesome link'"
      ]
     },
     "execution_count": 9,
     "metadata": {},
     "output_type": "execute_result"
    }
   ],
   "source": [
    "tree.getchildren()[1].getchildren()[2].text"
   ]
  },
  {
   "cell_type": "code",
   "execution_count": 10,
   "metadata": {
    "ExecuteTime": {
     "end_time": "2018-05-20T13:56:59.029779Z",
     "start_time": "2018-05-20T13:56:59.021697Z"
    },
    "collapsed": false
   },
   "outputs": [
    {
     "data": {
      "text/plain": [
       "[<Element a at 0x106a898b8>]"
      ]
     },
     "execution_count": 10,
     "metadata": {},
     "output_type": "execute_result"
    }
   ],
   "source": [
    "tree.xpath('//a')"
   ]
  },
  {
   "cell_type": "code",
   "execution_count": 14,
   "metadata": {
    "ExecuteTime": {
     "end_time": "2018-05-20T13:58:05.250481Z",
     "start_time": "2018-05-20T13:58:05.244894Z"
    },
    "collapsed": false
   },
   "outputs": [
    {
     "data": {
      "text/plain": [
       "'This is an awesome link'"
      ]
     },
     "execution_count": 14,
     "metadata": {},
     "output_type": "execute_result"
    }
   ],
   "source": [
    "tree.xpath('//a')[0].text"
   ]
  },
  {
   "cell_type": "code",
   "execution_count": 56,
   "metadata": {
    "ExecuteTime": {
     "end_time": "2018-05-20T15:16:56.833132Z",
     "start_time": "2018-05-20T15:16:56.827178Z"
    },
    "collapsed": false
   },
   "outputs": [
    {
     "data": {
      "text/plain": [
       "'\\n            '"
      ]
     },
     "execution_count": 56,
     "metadata": {},
     "output_type": "execute_result"
    }
   ],
   "source": [
    "tree.xpath('//ul')[0].text"
   ]
  },
  {
   "cell_type": "code",
   "execution_count": 57,
   "metadata": {
    "ExecuteTime": {
     "end_time": "2018-05-20T15:16:58.858630Z",
     "start_time": "2018-05-20T15:16:58.852588Z"
    },
    "collapsed": false
   },
   "outputs": [
    {
     "data": {
      "text/plain": [
       "<lxml.etree.ElementTextIterator at 0x106b218d0>"
      ]
     },
     "execution_count": 57,
     "metadata": {},
     "output_type": "execute_result"
    }
   ],
   "source": [
    "tree.xpath('//ul')[0].itertext()"
   ]
  },
  {
   "cell_type": "code",
   "execution_count": 58,
   "metadata": {
    "ExecuteTime": {
     "end_time": "2018-05-20T15:17:12.822761Z",
     "start_time": "2018-05-20T15:17:12.815349Z"
    },
    "collapsed": false
   },
   "outputs": [
    {
     "data": {
      "text/plain": [
       "['\\n            ',\n",
       " 'Jason Schloetzer',\n",
       " '\\n            ',\n",
       " 'Bill Smith',\n",
       " '\\n            ',\n",
       " 'Barney Stinson',\n",
       " '\\n        ']"
      ]
     },
     "execution_count": 58,
     "metadata": {},
     "output_type": "execute_result"
    }
   ],
   "source": [
    "list(tree.xpath('//ul')[0].itertext())"
   ]
  },
  {
   "cell_type": "code",
   "execution_count": 63,
   "metadata": {
    "ExecuteTime": {
     "end_time": "2018-05-20T15:18:17.904120Z",
     "start_time": "2018-05-20T15:18:17.897865Z"
    },
    "collapsed": false
   },
   "outputs": [
    {
     "data": {
      "text/plain": [
       "'Jason Schloetzer, Bill Smith, Barney Stinson'"
      ]
     },
     "execution_count": 63,
     "metadata": {},
     "output_type": "execute_result"
    }
   ],
   "source": [
    "', '.join([i.strip() for i in list(tree.xpath('//ul')[0].itertext()) \n",
    "           if i.strip()]).strip()"
   ]
  },
  {
   "cell_type": "markdown",
   "metadata": {},
   "source": [
    "Expression|Description\n",
    ":---: | ---\n",
    "`tagname`|Selects all nodes with the name \"tagname\"\n",
    "`/`|Selects from the root node\n",
    "`//`|Selects nodes in the document from the current node that match the selection no matter where they are\n",
    "`.`|Selects the current node\n",
    "`..`|Selects the parent of the current node\n",
    "`@`|Selects attributes"
   ]
  },
  {
   "cell_type": "markdown",
   "metadata": {},
   "source": [
    "- If a path starts with a ` / ` it always represents an absolute path\n",
    "- If a path starts with a ` . ` it always represents a relative path"
   ]
  },
  {
   "cell_type": "code",
   "execution_count": 30,
   "metadata": {
    "ExecuteTime": {
     "end_time": "2018-05-20T14:27:20.021695Z",
     "start_time": "2018-05-20T14:27:20.015983Z"
    },
    "collapsed": false
   },
   "outputs": [
    {
     "data": {
      "text/plain": [
       "[]"
      ]
     },
     "execution_count": 30,
     "metadata": {},
     "output_type": "execute_result"
    }
   ],
   "source": [
    "tree.xpath('/a')"
   ]
  },
  {
   "cell_type": "code",
   "execution_count": 31,
   "metadata": {
    "ExecuteTime": {
     "end_time": "2018-05-20T14:27:28.942629Z",
     "start_time": "2018-05-20T14:27:28.937329Z"
    },
    "collapsed": false
   },
   "outputs": [
    {
     "data": {
      "text/plain": [
       "[<Element a at 0x106a898b8>]"
      ]
     },
     "execution_count": 31,
     "metadata": {},
     "output_type": "execute_result"
    }
   ],
   "source": [
    "tree.xpath('.//a')"
   ]
  },
  {
   "cell_type": "code",
   "execution_count": 32,
   "metadata": {
    "ExecuteTime": {
     "end_time": "2018-05-20T14:27:45.985985Z",
     "start_time": "2018-05-20T14:27:45.980280Z"
    },
    "collapsed": false
   },
   "outputs": [
    {
     "data": {
      "text/plain": [
       "[<Element body at 0x106a89318>]"
      ]
     },
     "execution_count": 32,
     "metadata": {},
     "output_type": "execute_result"
    }
   ],
   "source": [
    "tree.xpath('.//a/..')"
   ]
  },
  {
   "cell_type": "code",
   "execution_count": 33,
   "metadata": {
    "ExecuteTime": {
     "end_time": "2018-05-20T14:28:04.639808Z",
     "start_time": "2018-05-20T14:28:04.634124Z"
    },
    "collapsed": false
   },
   "outputs": [
    {
     "data": {
      "text/plain": [
       "['unordered_list']"
      ]
     },
     "execution_count": 33,
     "metadata": {},
     "output_type": "execute_result"
    }
   ],
   "source": [
    "tree.xpath('//@id')"
   ]
  },
  {
   "cell_type": "markdown",
   "metadata": {
    "ExecuteTime": {
     "end_time": "2018-05-20T13:59:32.494178Z",
     "start_time": "2018-05-20T13:59:32.491273Z"
    },
    "collapsed": true
   },
   "source": [
    "## Predicates"
   ]
  },
  {
   "cell_type": "markdown",
   "metadata": {},
   "source": [
    "**`Predicates`** are embedded in square brackets. They are used to find a specific node, or a node that contains a specific value."
   ]
  },
  {
   "cell_type": "markdown",
   "metadata": {
    "ExecuteTime": {
     "end_time": "2018-05-20T14:04:06.194643Z",
     "start_time": "2018-05-20T14:04:06.185125Z"
    }
   },
   "source": [
    "Path Expression|Result\n",
    "--- | ---\n",
    "`tagname[n]`|Selects the `n`-th `tagname` element.\n",
    "`tagname[last()]`|Selects the last `tagname` element\n",
    "`tagname[last()-1]`|Selects the last but one `tagname` element\n",
    "`tagname[position()<3]`|Selects the first two `tagname` elements\n",
    "`tagname[@attribute_name]`|Selects all the `tagname` elements that have an attribute named attribute_name\n",
    "`tagname[@attribute_name='attribute_value']`|Selects all the `tagname` elements that have an `attribute_name` attribute with a value of \"attribute_value\""
   ]
  },
  {
   "cell_type": "code",
   "execution_count": 23,
   "metadata": {
    "ExecuteTime": {
     "end_time": "2018-05-20T14:06:05.199554Z",
     "start_time": "2018-05-20T14:06:05.194158Z"
    },
    "collapsed": false
   },
   "outputs": [
    {
     "data": {
      "text/plain": [
       "[<Element li at 0x106acbcc8>]"
      ]
     },
     "execution_count": 23,
     "metadata": {},
     "output_type": "execute_result"
    }
   ],
   "source": [
    "tree.xpath('//li[1]')"
   ]
  },
  {
   "cell_type": "code",
   "execution_count": 24,
   "metadata": {
    "ExecuteTime": {
     "end_time": "2018-05-20T14:06:10.942452Z",
     "start_time": "2018-05-20T14:06:10.937091Z"
    },
    "collapsed": false
   },
   "outputs": [
    {
     "data": {
      "text/plain": [
       "[<Element li at 0x106b0aae8>]"
      ]
     },
     "execution_count": 24,
     "metadata": {},
     "output_type": "execute_result"
    }
   ],
   "source": [
    "tree.xpath('//li[last()]')"
   ]
  },
  {
   "cell_type": "code",
   "execution_count": 28,
   "metadata": {
    "ExecuteTime": {
     "end_time": "2018-05-20T14:08:12.208226Z",
     "start_time": "2018-05-20T14:08:12.203128Z"
    },
    "collapsed": false
   },
   "outputs": [
    {
     "data": {
      "text/plain": [
       "[<Element ul at 0x106a89908>]"
      ]
     },
     "execution_count": 28,
     "metadata": {},
     "output_type": "execute_result"
    }
   ],
   "source": [
    "tree.xpath(\"//ul[@id]\")"
   ]
  },
  {
   "cell_type": "code",
   "execution_count": 29,
   "metadata": {
    "ExecuteTime": {
     "end_time": "2018-05-20T14:08:12.815868Z",
     "start_time": "2018-05-20T14:08:12.810764Z"
    },
    "collapsed": false
   },
   "outputs": [
    {
     "data": {
      "text/plain": [
       "[<Element ul at 0x106a89908>]"
      ]
     },
     "execution_count": 29,
     "metadata": {},
     "output_type": "execute_result"
    }
   ],
   "source": [
    "tree.xpath(\"//ul[@id='unordered_list']\")"
   ]
  },
  {
   "cell_type": "markdown",
   "metadata": {},
   "source": [
    "## Wildcards"
   ]
  },
  {
   "cell_type": "markdown",
   "metadata": {},
   "source": [
    "Wildcard|Description\n",
    "--- | ---\n",
    "`*`|Matches any element node\n",
    "`node()`|Matches any node of any kind"
   ]
  },
  {
   "cell_type": "code",
   "execution_count": 40,
   "metadata": {
    "ExecuteTime": {
     "end_time": "2018-05-20T14:31:42.832832Z",
     "start_time": "2018-05-20T14:31:42.826722Z"
    },
    "collapsed": false
   },
   "outputs": [
    {
     "data": {
      "text/plain": [
       "[<Element head at 0x106a75ea8>, <Element body at 0x106a89318>]"
      ]
     },
     "execution_count": 40,
     "metadata": {},
     "output_type": "execute_result"
    }
   ],
   "source": [
    "tree.xpath('*')"
   ]
  },
  {
   "cell_type": "code",
   "execution_count": 41,
   "metadata": {
    "ExecuteTime": {
     "end_time": "2018-05-20T14:31:49.516172Z",
     "start_time": "2018-05-20T14:31:49.510532Z"
    },
    "collapsed": false
   },
   "outputs": [
    {
     "data": {
      "text/plain": [
       "[<Element html at 0x106a75db8>,\n",
       " <Element head at 0x106a75ea8>,\n",
       " <Element title at 0x106b6ed18>,\n",
       " <Element body at 0x106a89318>,\n",
       " <Element h1 at 0x106a895e8>,\n",
       " <Element p at 0x106a89868>,\n",
       " <Element a at 0x106a898b8>,\n",
       " <Element ul at 0x106a89908>,\n",
       " <Element li at 0x106acbcc8>,\n",
       " <Element li at 0x106acbef8>,\n",
       " <Element li at 0x106b0aae8>]"
      ]
     },
     "execution_count": 41,
     "metadata": {},
     "output_type": "execute_result"
    }
   ],
   "source": [
    "tree.xpath('//*')"
   ]
  },
  {
   "cell_type": "code",
   "execution_count": 50,
   "metadata": {
    "ExecuteTime": {
     "end_time": "2018-05-20T15:13:46.207131Z",
     "start_time": "2018-05-20T15:13:46.201301Z"
    },
    "collapsed": false
   },
   "outputs": [
    {
     "data": {
      "text/plain": [
       "[<Element html at 0x106a75db8>,\n",
       " <Element head at 0x106a75ea8>,\n",
       " <Element title at 0x106b6ed18>,\n",
       " <Element body at 0x106a89318>,\n",
       " <Element h1 at 0x106a895e8>,\n",
       " <Element p at 0x106a89868>,\n",
       " <Element a at 0x106a898b8>,\n",
       " <Element ul at 0x106a89908>,\n",
       " <Element li at 0x106acbcc8>,\n",
       " <Element li at 0x106acbef8>,\n",
       " <Element li at 0x106b0aae8>]"
      ]
     },
     "execution_count": 50,
     "metadata": {},
     "output_type": "execute_result"
    }
   ],
   "source": [
    "tree.xpath('//a')[0].xpath('//*')"
   ]
  },
  {
   "cell_type": "code",
   "execution_count": 43,
   "metadata": {
    "ExecuteTime": {
     "end_time": "2018-05-20T14:32:24.947421Z",
     "start_time": "2018-05-20T14:32:24.941601Z"
    },
    "collapsed": false
   },
   "outputs": [
    {
     "data": {
      "text/plain": [
       "[<Element html at 0x106a75db8>,\n",
       " '\\n    ',\n",
       " <Element head at 0x106a75ea8>,\n",
       " '\\n        ',\n",
       " <Element title at 0x106b6ed18>,\n",
       " 'Page Title',\n",
       " '\\n    ',\n",
       " '\\n    ',\n",
       " <Element body at 0x106a89318>,\n",
       " '\\n        ',\n",
       " <Element h1 at 0x106a895e8>,\n",
       " 'This is an amazing heading',\n",
       " '\\n        ',\n",
       " <Element p at 0x106a89868>,\n",
       " 'This is a fantastic paragraph.',\n",
       " '\\n        ',\n",
       " <Element a at 0x106a898b8>,\n",
       " 'This is an awesome link',\n",
       " '\\n        ',\n",
       " <Element ul at 0x106a89908>,\n",
       " '\\n            ',\n",
       " <Element li at 0x106acbcc8>,\n",
       " 'Jason Schloetzer',\n",
       " '\\n            ',\n",
       " <Element li at 0x106acbef8>,\n",
       " 'Bill Smith',\n",
       " '\\n            ',\n",
       " <Element li at 0x106b0aae8>,\n",
       " 'Barney Stinson',\n",
       " '\\n        ',\n",
       " '\\n    ',\n",
       " '\\n']"
      ]
     },
     "execution_count": 43,
     "metadata": {},
     "output_type": "execute_result"
    }
   ],
   "source": [
    "tree.xpath('//node()')"
   ]
  },
  {
   "cell_type": "markdown",
   "metadata": {},
   "source": [
    "## Summary"
   ]
  },
  {
   "cell_type": "markdown",
   "metadata": {},
   "source": [
    "Expression|Description\n",
    "--- | ---\n",
    "`tagname`|Selects all nodes with the name \"tagname\"\n",
    "`/`|Selects from the root node\n",
    "`//`|Selects nodes in the document from the current node that match the selection no matter where they are\n",
    "`.`|Selects the current node\n",
    "`..`|Selects the parent of the current node\n",
    "`@`|Selects attributes\n",
    "`tagname[n]`|Selects the `n`-th `tagname` element.\n",
    "`tagname[last()]`|Selects the last `tagname` element\n",
    "`tagname[last()-1]`|Selects the last but one `tagname` element\n",
    "`tagname[position()<3]`|Selects the first two `tagname` elements\n",
    "`tagname[@attribute_name]`|Selects all the `tagname` elements that have an attribute named attribute_name\n",
    "`tagname[@attribute_name='attribute_value']`|Selects all the `tagname` elements that have an `attribute_name` attribute with a value of \"attribute_value\"\n",
    "`*`|Matches any element node\n",
    "`node()`|Matches any node of any kind"
   ]
  },
  {
   "cell_type": "markdown",
   "metadata": {},
   "source": [
    "## Exercises"
   ]
  },
  {
   "cell_type": "code",
   "execution_count": 65,
   "metadata": {
    "ExecuteTime": {
     "end_time": "2018-05-20T15:19:13.955302Z",
     "start_time": "2018-05-20T15:19:13.952266Z"
    },
    "collapsed": true
   },
   "outputs": [],
   "source": [
    "# Exercise 1: select any node that has an attribute"
   ]
  },
  {
   "cell_type": "code",
   "execution_count": 66,
   "metadata": {
    "ExecuteTime": {
     "end_time": "2018-05-20T15:19:14.360378Z",
     "start_time": "2018-05-20T15:19:14.354155Z"
    },
    "collapsed": true
   },
   "outputs": [],
   "source": [
    "# Exercise 2: select any node that doesn't have text"
   ]
  },
  {
   "cell_type": "code",
   "execution_count": 67,
   "metadata": {
    "ExecuteTime": {
     "end_time": "2018-05-20T15:19:14.858009Z",
     "start_time": "2018-05-20T15:19:14.854811Z"
    },
    "collapsed": true
   },
   "outputs": [],
   "source": [
    "# Exercise 3: get the text of the whole HTML page"
   ]
  },
  {
   "cell_type": "code",
   "execution_count": 70,
   "metadata": {
    "ExecuteTime": {
     "end_time": "2018-05-20T15:20:03.904934Z",
     "start_time": "2018-05-20T15:20:03.902039Z"
    },
    "collapsed": true
   },
   "outputs": [],
   "source": [
    "# Exercise 4: get the title of the page"
   ]
  },
  {
   "cell_type": "code",
   "execution_count": 69,
   "metadata": {
    "ExecuteTime": {
     "end_time": "2018-05-20T15:20:01.848747Z",
     "start_time": "2018-05-20T15:20:01.844481Z"
    },
    "collapsed": true
   },
   "outputs": [],
   "source": [
    "# Exercise 5: build a dictionary of all links in the page {text: link} "
   ]
  },
  {
   "cell_type": "code",
   "execution_count": null,
   "metadata": {
    "collapsed": true
   },
   "outputs": [],
   "source": []
  }
 ],
 "metadata": {
  "kernelspec": {
   "display_name": "Python 3",
   "language": "python",
   "name": "python3"
  },
  "language_info": {
   "codemirror_mode": {
    "name": "ipython",
    "version": 3
   },
   "file_extension": ".py",
   "mimetype": "text/x-python",
   "name": "python",
   "nbconvert_exporter": "python",
   "pygments_lexer": "ipython3",
   "version": "3.6.0"
  }
 },
 "nbformat": 4,
 "nbformat_minor": 2
}
