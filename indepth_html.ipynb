{
 "cells": [
  {
   "cell_type": "markdown",
   "metadata": {
    "ExecuteTime": {
     "end_time": "2018-05-18T20:57:20.990380Z",
     "start_time": "2018-05-18T20:57:20.985878Z"
    }
   },
   "source": [
    "## HTML: Hyper Text Markup Language"
   ]
  },
  {
   "cell_type": "markdown",
   "metadata": {},
   "source": [
    "HTML is the standard markup language for creating Web pages.\n",
    "\n",
    "- Its elements are the building blocks of HTML pages and are represented by tags\n",
    "- HTML tags label pieces of content such as \"heading\", \"paragraph\", \"table\", and so on\n",
    "- There are more than 100 different tags\n",
    "- Browsers do not display the HTML tags, but use them to render the content of the page\n",
    "\n",
    "Example:\n",
    "\n",
    "```html\n",
    "<!DOCTYPE html>\n",
    "<html>\n",
    "    <head>\n",
    "        <title>Page Title</title>\n",
    "    </head>\n",
    "    <body>\n",
    "        <h1>This is an amazing heading</h1>\n",
    "        <p>This is a fantastic paragraph.</p>\n",
    "        <a href=\"https://www.georgetown.edu/\">This is an awesome link</a>\n",
    "        <ul id=\"unordered_list\">\n",
    "            <li>Jason Schloetzer</li>\n",
    "            <li>Bill Smith</li>\n",
    "            <li>Barney Stinson</li>\n",
    "        </ul>\n",
    "    </body>\n",
    "</html>```\n",
    "\n",
    "Let's save it in a text document and open it in a browser. \n",
    "You can use either `.htm` or `.html` as file extension.\n",
    "\n",
    "- `<!DOCTYPE html>`: declaration that defines this document to be HTML (in particular, HTML5). It helps browsers to display web pages correctly. It must only appear once, at the top of the page.\n",
    "- `<html>`: root element of an HTML page\n",
    "- `<head>`: element that contains metadata (data about data) for the document, not displayed.\n",
    "- `<title>`: element that specifies a title for the document\n",
    "- `<body>`: element that contains the **visible content** \n",
    "- `<h1>`: element that defines a large heading. `<h1>` defines the most important heading, `<h6>` defines the least important heading.\n",
    "- `<p>:` element that defines a paragraph. Extra spaces and new lines are ignored.\n",
    "- `<a>`: element that defines a link (\"anchor\"). The link's destination is specified in the `href` attribute. \n",
    "- `<ul>`: element that defines an unordered list (`<ol>` for ordered lists), whose atomic elements are `<li>`. Any element can have an `id` attribute.\n",
    "\n",
    "As you can see, HTML elements can be nested: `<li>` is inside `<ul>` which is inside `<body>` which is inside `<html>`. \n",
    "\n",
    "**HTML is a tree**\n",
    "\n",
    "HTML tags are element names surrounded by angle brackets:\n",
    "\n",
    "`<tagname>content</tagname>`\n",
    "\n",
    "- HTML tags come in pairs like `<p>` and `</p>`\n",
    "- The first tag in a pair is the start tag, or opening tag\n",
    "- The second tag is the end tag, or closing tag\n",
    "- The end tag is written like the start tag, but with a forward slash inserted before the tag name\n",
    "- The browser does not display the HTML tags, but uses them to determine how to display the document.\n",
    "- Attributes in the start tag are used to provide additional information about HTML elements.\n",
    "- Empty elements don't have an end tag (e.g. `<br>`, line break)\n",
    "- Some HTML elements will display correctly even without the end tag, browser are error tolerant. But it makes them harder to parse."
   ]
  },
  {
   "cell_type": "markdown",
   "metadata": {
    "ExecuteTime": {
     "end_time": "2018-05-18T21:45:13.045937Z",
     "start_time": "2018-05-18T21:45:13.042297Z"
    }
   },
   "source": [
    "## HTML tables"
   ]
  },
  {
   "cell_type": "markdown",
   "metadata": {},
   "source": [
    "\n",
    "- An HTML table is defined with the `<table>` tag.\n",
    "- Each table row is defined with the `<tr>` tag. \n",
    "- A table header is defined with the `<th>` tag. \n",
    "- A table data/cell is defined with the `<td>` tag.\n",
    "\n",
    "```html\n",
    "<table style=\"width:20%\">\n",
    "  <tr>\n",
    "    <th>Firstname</th>\n",
    "    <th>Lastname</th> \n",
    "    <th>Age</th>\n",
    "  </tr>\n",
    "  <tr>\n",
    "    <td>Jill</td>\n",
    "    <td>Smith</td> \n",
    "    <td>50</td>\n",
    "  </tr>\n",
    "  <tr>\n",
    "    <td>Eve</td>\n",
    "    <td>Jackson</td> \n",
    "    <td>94</td>\n",
    "  </tr>\n",
    "</table>```\n",
    "\n",
    "- To make a cell span more than one column, use the `colspan` attribute\n",
    "- To make a cell span more than one row, use the `rowspan` attribute\n",
    "\n",
    "```html\n",
    "<table style=\"width:20%\">\n",
    "  <tr>\n",
    "    <th>Name</th>\n",
    "    <th colspan=\"2\">Telephone</th>\n",
    "  </tr>\n",
    "  <tr>\n",
    "    <td>Bill Gates</td>\n",
    "    <td>55577854</td>\n",
    "    <td>55577855</td>\n",
    "  </tr>\n",
    "</table>```"
   ]
  },
  {
   "cell_type": "markdown",
   "metadata": {
    "ExecuteTime": {
     "end_time": "2018-05-18T21:49:56.898217Z",
     "start_time": "2018-05-18T21:49:56.894859Z"
    }
   },
   "source": [
    "## HTML Block, Inline, Entities"
   ]
  },
  {
   "cell_type": "markdown",
   "metadata": {
    "ExecuteTime": {
     "end_time": "2018-05-18T21:50:21.203661Z",
     "start_time": "2018-05-18T21:50:21.197724Z"
    }
   },
   "source": [
    "- A block-level element always starts on a new line and takes up the full width available\n",
    "    - e.g. `<div>`, a generic container for other elements\n",
    "- An inline element does not start on a new line, and only takes up as much width as necessary\n",
    "    - e.g. `<span>`, a generic container for text"
   ]
  },
  {
   "cell_type": "markdown",
   "metadata": {},
   "source": [
    "- Reserved characters in HTML must be replaced with `character entities`\n",
    "- e.g. if you use `<` or `>` signs in your text, the browser might mix them with tags"
   ]
  },
  {
   "cell_type": "markdown",
   "metadata": {},
   "source": [
    "Result|Description|Entity Name|Entity Number\n",
    ":---: | --- | --- | ---\n",
    "` `|non-breaking space|`&nbsp`;|`&#160;`\n",
    "`<`|less than|`&lt;`|`&#60;`\n",
    "`>`|greater than|`&gt;`|`&#62;`\n",
    "`&`|ampersand|`&amp;`|`&#38;`\n",
    "`\"`|double quotation mark|`&quot;`|`&#34;`\n",
    "`'`|single quotation mark|`&apos;`|`&#39;`"
   ]
  },
  {
   "cell_type": "markdown",
   "metadata": {},
   "source": [
    "## Exercise"
   ]
  },
  {
   "cell_type": "markdown",
   "metadata": {},
   "source": [
    "Create a webpage that looks like this:\n",
    "\n"
   ]
  },
  {
   "cell_type": "code",
   "execution_count": null,
   "metadata": {
    "collapsed": true
   },
   "outputs": [],
   "source": []
  }
 ],
 "metadata": {
  "kernelspec": {
   "display_name": "Python 3",
   "language": "python",
   "name": "python3"
  },
  "language_info": {
   "codemirror_mode": {
    "name": "ipython",
    "version": 3
   },
   "file_extension": ".py",
   "mimetype": "text/x-python",
   "name": "python",
   "nbconvert_exporter": "python",
   "pygments_lexer": "ipython3",
   "version": "3.6.0"
  }
 },
 "nbformat": 4,
 "nbformat_minor": 2
}
