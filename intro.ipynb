{
 "cells": [
  {
   "cell_type": "markdown",
   "metadata": {},
   "source": [
    "# Introduction"
   ]
  },
  {
   "cell_type": "markdown",
   "metadata": {},
   "source": [
    "Introduction to scraping \n",
    "- Packages used: requests, lxml, scrapy \n",
    "- HTTP requests and responses \n",
    "- HTML parsing \n",
    "- Element pattern recognition \n",
    "- Headless browsers \n",
    "\n",
    "Introduction to NLP \n",
    "- Packages used: re, gensim, nltk, spacy\n",
    "- Regex and text manipulation \n",
    "- Part-of-speech tagging \n",
    "- Text classification \n",
    "- Keyword extraction \n",
    "- Sentiment analysis \n",
    "- Named entity recognition \n",
    "- Word embeddings \n",
    "- Performance metrics"
   ]
  },
  {
   "cell_type": "markdown",
   "metadata": {
    "collapsed": true
   },
   "source": [
    "talking points:\n",
    "- we'll see 4 examples, and we won't be able to complete one of them with off-the-shelf tools\n",
    "- simple heuristics > machine learning > complex heuristics (rules of ML)\n",
    "- don't use regex for HTML (SO comment)\n",
    "\n",
    "in depth: \n",
    "- str and bytes\n",
    "- regular expressions (done)\n",
    "- HTML (done)\n",
    "- HTTP requests (done)\n",
    "- word embeddings: TFIDF, cosine similarity, word2Vec\n",
    "- NLP tasks\n",
    "- precision, recall, accuracy\n",
    "- conditional random fields\n",
    "- Levenshtein distance\n",
    "- sentence tokenization"
   ]
  },
  {
   "cell_type": "code",
   "execution_count": null,
   "metadata": {
    "collapsed": true
   },
   "outputs": [],
   "source": []
  }
 ],
 "metadata": {
  "kernelspec": {
   "display_name": "Python 3",
   "language": "python",
   "name": "python3"
  },
  "language_info": {
   "codemirror_mode": {
    "name": "ipython",
    "version": 3
   },
   "file_extension": ".py",
   "mimetype": "text/x-python",
   "name": "python",
   "nbconvert_exporter": "python",
   "pygments_lexer": "ipython3",
   "version": "3.6.0"
  }
 },
 "nbformat": 4,
 "nbformat_minor": 2
}
