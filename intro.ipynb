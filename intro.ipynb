{
 "cells": [
  {
   "cell_type": "markdown",
   "metadata": {},
   "source": [
    "## Introduction"
   ]
  },
  {
   "cell_type": "markdown",
   "metadata": {},
   "source": [
    "### Who am I?"
   ]
  },
  {
   "cell_type": "markdown",
   "metadata": {},
   "source": [
    "Spent the last 8 years doing information extraction and modeling on OSINT\n",
    "```text\n",
    "- 2010-2013: Research on complex systems (economics, finance, social and political systems)\n",
    "- 2013-2017: Founded a machine learning startup, acquired by HubSpot\n",
    "- 2017-    : Machine learning R&D merging internal and external sources```"
   ]
  },
  {
   "cell_type": "markdown",
   "metadata": {},
   "source": [
    "Course structure:\n",
    "- Project 1: NLP\n",
    "- Project 2: regex\n",
    "- Project 3: HTML parsing\n",
    "- Project 4: OSINT "
   ]
  },
  {
   "cell_type": "markdown",
   "metadata": {},
   "source": [
    "### What concepts will you master by tomorrow?"
   ]
  },
  {
   "cell_type": "markdown",
   "metadata": {},
   "source": [
    "- Scraping \n",
    "  - HTTP requests and responses \n",
    "  - HTML parsing \n",
    "  - Element and URL pattern recognition \n",
    "\n",
    "\n",
    "- Machine Learning and NLP \n",
    "  - Regex and text manipulation\n",
    "  - Fundamental NLP tasks (tokenization, POS tagging)\n",
    "  - Named entity recognition \n",
    "  - Language representations: TFIDF, Word embeddings \n",
    "  - Cosine similarity\n",
    "  - Performance metrics"
   ]
  },
  {
   "cell_type": "markdown",
   "metadata": {},
   "source": [
    "### What low-level tools will you master by tomorrow?"
   ]
  },
  {
   "cell_type": "markdown",
   "metadata": {},
   "source": [
    "- re\n",
    "- requests\n",
    "- lxml\n",
    "- xpath"
   ]
  },
  {
   "cell_type": "markdown",
   "metadata": {},
   "source": [
    "### What high-level tools will you master by tomorrow?"
   ]
  },
  {
   "cell_type": "markdown",
   "metadata": {},
   "source": [
    "- jupyter\n",
    "- tensorflow-hub\n",
    "- duckling\n",
    "- spacy"
   ]
  },
  {
   "cell_type": "markdown",
   "metadata": {
    "collapsed": true
   },
   "source": [
    "talking points:\n",
    "- we'll see 4 examples, and we won't be able to complete one of them with off-the-shelf tools\n",
    "- don't use regex for HTML (SO comment)\n",
    "\n",
    "in depth: \n",
    "- str and bytes\n",
    "- regular expressions (done)\n",
    "- HTML (done)\n",
    "- HTTP requests (done)\n",
    "- word embeddings: TFIDF, cosine similarity, word2Vec\n",
    "- NLP tasks\n",
    "- precision, recall, accuracy\n",
    "- conditional random fields\n",
    "- Levenshtein distance\n",
    "- sentence tokenization"
   ]
  },
  {
   "cell_type": "code",
   "execution_count": null,
   "metadata": {
    "collapsed": true
   },
   "outputs": [],
   "source": []
  }
 ],
 "metadata": {
  "kernelspec": {
   "display_name": "Python 3",
   "language": "python",
   "name": "python3"
  },
  "language_info": {
   "codemirror_mode": {
    "name": "ipython",
    "version": 3
   },
   "file_extension": ".py",
   "mimetype": "text/x-python",
   "name": "python",
   "nbconvert_exporter": "python",
   "pygments_lexer": "ipython3",
   "version": "3.6.0"
  },
  "toc": {
   "base_numbering": 1,
   "nav_menu": {},
   "number_sections": true,
   "sideBar": true,
   "skip_h1_title": false,
   "title_cell": "Table of Contents",
   "title_sidebar": "Contents",
   "toc_cell": false,
   "toc_position": {},
   "toc_section_display": true,
   "toc_window_display": false
  }
 },
 "nbformat": 4,
 "nbformat_minor": 2
}
