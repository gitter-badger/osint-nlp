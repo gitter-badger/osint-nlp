{
 "cells": [
  {
   "cell_type": "markdown",
   "metadata": {},
   "source": [
    "## Research Project 2\n",
    "```text\n",
    "- Source: PCAOB\n",
    "- Goal: Information Extraction from PDF files\n",
    "- Techniques: Regular Expressions, Probabilistic Context Free Grammar\n",
    "- Tools: re, duckling```"
   ]
  },
  {
   "cell_type": "code",
   "execution_count": 126,
   "metadata": {
    "collapsed": false
   },
   "outputs": [],
   "source": [
    "# Standard library\n",
    "import os\n",
    "import re\n",
    "import json\n",
    "from collections import Counter\n",
    "from pprint import PrettyPrinter\n",
    "\n",
    "# Third-party\n",
    "import requests\n",
    "from dateutil import parser\n",
    "from duckling import DucklingWrapper"
   ]
  },
  {
   "cell_type": "code",
   "execution_count": null,
   "metadata": {
    "collapsed": true
   },
   "outputs": [],
   "source": [
    "pp = PrettyPrinter()\n",
    "duck_parser = DucklingWrapper()"
   ]
  },
  {
   "cell_type": "code",
   "execution_count": 172,
   "metadata": {
    "collapsed": true
   },
   "outputs": [],
   "source": [
    "def get_text_from_pdf(filename):\n",
    "    url = 'https://pcaobus.org/Inspections/Reports/Documents/%s.pdf' % filename\n",
    "    res = requests.get(url)\n",
    "    with open('./%s.pdf' % filename, 'wb') as f:\n",
    "        f.write(res.content)\n",
    "    os.system('pdftotext %s.pdf %s.txt' % (filename, filename)) # If format is important, use \"pdftohtml\"\n",
    "    return open('./%s.txt' % filename, 'r').read()"
   ]
  },
  {
   "cell_type": "code",
   "execution_count": 195,
   "metadata": {
    "collapsed": false
   },
   "outputs": [],
   "source": [
    "text = get_text_from_pdf('2005_Tamas_B._Revai_CPA')\n",
    "split_text = text.split('\\x0c')"
   ]
  },
  {
   "cell_type": "code",
   "execution_count": 199,
   "metadata": {
    "collapsed": false
   },
   "outputs": [],
   "source": [
    "def get_field_from_regex(text, pattern, flags=0, most_common=True):\n",
    "    matches = re.findall(pattern, text, flags=flags)\n",
    "    clean = [' '.join(i.strip().split()) for i in matches]\n",
    "    if most_common:\n",
    "        counts = Counter(clean)\n",
    "        final = counts.most_common()[0][0]\n",
    "    else:\n",
    "        final = clean\n",
    "    return final\n",
    "\n",
    "def get_dates(text):\n",
    "    parsed = duck_parser.parse_time(text)\n",
    "    values = [i['value']['value'] for i in parsed if 'grain' in i['value'] and \n",
    "              i['value']['grain'] == 'day']\n",
    "    final = sorted([parser.parse(i).replace(tzinfo=None) for i in values])\n",
    "    return final\n",
    "\n",
    "def get_period_of_inspection(text):\n",
    "    par = get_field_from_regex(text, \n",
    "                               r'INSPECTION PROCEDURES AND CERTAIN OBSERVATIONS(.*?)\\n\\n', \n",
    "                               flags=re.DOTALL)\n",
    "    parsed = duck_parser.parse_time(par)\n",
    "    values = [i for i in parsed if isinstance(i['value']['value'], dict) and\n",
    "              'to' in i['value']['value']]\n",
    "    if not values:\n",
    "        final = get_dates(par)\n",
    "    else:\n",
    "        final = [parser.parse(values[0]['value']['value']['from']).replace(tzinfo=None), \n",
    "                 parser.parse(values[0]['value']['value']['to']]).replace(tzinfo=None)\n",
    "    return final"
   ]
  },
  {
   "cell_type": "code",
   "execution_count": 212,
   "metadata": {
    "collapsed": false
   },
   "outputs": [
    {
     "name": "stdout",
     "output_type": "stream",
     "text": [
      "{'Date of Inspection Report': datetime.datetime(2005, 6, 23, 0, 0),\n",
      " 'Failures': ['the pervasive failure to plan, perform, and document '\n",
      "              'performance of the audit or the quarterly reviews of interim '\n",
      "              'financial information for the first three quarters of the '\n",
      "              \"issuer's fiscal year\",\n",
      "              \"the failure to properly evaluate the issuer's ability to \"\n",
      "              'continue as a going concern. B.'],\n",
      " 'Firm': 'Tamas B. Revai, CPA',\n",
      " 'Inspection Period': [datetime.datetime(2004, 9, 7, 0, 0),\n",
      "                       datetime.datetime(2004, 10, 7, 0, 0)],\n",
      " 'Offices': '1 (New York, New York)',\n",
      " 'Ownership structure': 'Sole proprietorship',\n",
      " 'PCAOB Release No': '104-2005-022'}\n"
     ]
    }
   ],
   "source": [
    "parsed = {\n",
    "    \n",
    "    'PCAOB Release No': get_field_from_regex(text=text,\n",
    "                                             pattern=r'PCAOB Release No. (\\d{3}-\\d{4}-\\d{3})',\n",
    "                                             flags=re.IGNORECASE),\n",
    "    \n",
    "    'Firm': get_field_from_regex(text=text,\n",
    "                                 pattern=r'Inspection of (.*?)\\n'),\n",
    "    \n",
    "    'Offices': get_field_from_regex(text=text,\n",
    "                                    pattern=r'Number of offices(.*?)Ownership',\n",
    "                                    flags=re.DOTALL),\n",
    "    \n",
    "    'Ownership structure': get_field_from_regex(text=text,\n",
    "                                                pattern=r'Ownership structure(.*?)Number of partners',\n",
    "                                                flags=re.DOTALL),\n",
    "    \n",
    "    'Date of Inspection Report': get_dates(text=split_text[0])[0],\n",
    "    \n",
    "    'Inspection Period': get_period_of_inspection(text=text),\n",
    "    \n",
    "    'Failures': get_field_from_regex(text=text,\n",
    "                                     pattern=r'\\n\\(\\d\\)((?:.*?)failure(?:.*?))(?:\\n\\n|;)',\n",
    "                                     flags=re.DOTALL,\n",
    "                                     most_common=False)\n",
    "}\n",
    "\n",
    "pp.pprint(parsed)"
   ]
  },
  {
   "cell_type": "code",
   "execution_count": null,
   "metadata": {
    "collapsed": true
   },
   "outputs": [],
   "source": []
  }
 ],
 "metadata": {
  "kernelspec": {
   "display_name": "Python 3",
   "language": "python",
   "name": "python3"
  },
  "language_info": {
   "codemirror_mode": {
    "name": "ipython",
    "version": 3
   },
   "file_extension": ".py",
   "mimetype": "text/x-python",
   "name": "python",
   "nbconvert_exporter": "python",
   "pygments_lexer": "ipython3",
   "version": "3.6.0"
  }
 },
 "nbformat": 4,
 "nbformat_minor": 2
}
