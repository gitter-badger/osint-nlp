{
 "cells": [
  {
   "cell_type": "markdown",
   "metadata": {},
   "source": [
    "# Introduction"
   ]
  },
  {
   "cell_type": "markdown",
   "metadata": {},
   "source": [
    "Introduction to scraping \n",
    "- Packages used: requests, lxml, scrapy \n",
    "- HTTP requests and responses \n",
    "- HTML parsing \n",
    "- Element pattern recognition \n",
    "- Headless browsers \n",
    "\n",
    "Introduction to NLP \n",
    "- Packages used: re, gensim, nltk, spacy\n",
    "- Regex and text manipulation \n",
    "- Part-of-speech tagging \n",
    "- Text classification \n",
    "- Keyword extraction \n",
    "- Sentiment analysis \n",
    "- Named entity recognition \n",
    "- Word embeddings \n",
    "- Performance metrics"
   ]
  },
  {
   "cell_type": "markdown",
   "metadata": {
    "collapsed": true
   },
   "source": [
    "philosophy:\n",
    "- simple heuristics > machine learning > complex heuristics (rules of ML)\n",
    "- don't use regex for HTML (SO comment)\n",
    "- code together the example + do exercises to absorb concepts\n",
    "- goal is to learn vocabulary and get a flavor of all things NLP, rather than cover the field \n",
    "\n",
    "in depth: \n",
    "- unicode and strings\n",
    "- HTML\n",
    "- precision, recall, accuracy\n",
    "- conditional random fields\n",
    "- HTTP requests\n",
    "- Levenshtein distance"
   ]
  },
  {
   "cell_type": "code",
   "execution_count": null,
   "metadata": {
    "collapsed": true
   },
   "outputs": [],
   "source": []
  }
 ],
 "metadata": {
  "kernelspec": {
   "display_name": "Python 3",
   "language": "python",
   "name": "python3"
  },
  "language_info": {
   "codemirror_mode": {
    "name": "ipython",
    "version": 3
   },
   "file_extension": ".py",
   "mimetype": "text/x-python",
   "name": "python",
   "nbconvert_exporter": "python",
   "pygments_lexer": "ipython3",
   "version": "3.6.0"
  }
 },
 "nbformat": 4,
 "nbformat_minor": 2
}
