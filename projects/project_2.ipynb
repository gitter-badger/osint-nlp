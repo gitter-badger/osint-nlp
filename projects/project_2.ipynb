{
 "cells": [
  {
   "cell_type": "markdown",
   "metadata": {},
   "source": [
    "## Research Project 2\n",
    "```text\n",
    "- Source: PCAOB\n",
    "- Goal: Information Extraction from PDF files\n",
    "- Techniques: Regular Expressions, Probabilistic Context Free Grammar\n",
    "- Tools: re, duckling\n",
    "- Lines of code: ~100```"
   ]
  },
  {
   "cell_type": "markdown",
   "metadata": {
    "collapsed": true
   },
   "source": [
    "### Get a PDF"
   ]
  },
  {
   "cell_type": "code",
   "execution_count": 11,
   "metadata": {
    "ExecuteTime": {
     "end_time": "2018-05-22T20:41:10.672124Z",
     "start_time": "2018-05-22T20:41:10.108314Z"
    },
    "collapsed": false
   },
   "outputs": [],
   "source": [
    "import requests\n",
    "url = 'https://pcaobus.org/Inspections/Reports/Documents/2005_Tamas_B._Revai_CPA.pdf'\n",
    "res = requests.get(url)"
   ]
  },
  {
   "cell_type": "code",
   "execution_count": 12,
   "metadata": {
    "ExecuteTime": {
     "end_time": "2018-05-22T20:41:11.375286Z",
     "start_time": "2018-05-22T20:41:11.370896Z"
    },
    "collapsed": false
   },
   "outputs": [],
   "source": [
    "with open('./2005_Tamas_B._Revai_CPA.pdf', 'wb') as f:\n",
    "    f.write(res.content)"
   ]
  },
  {
   "cell_type": "code",
   "execution_count": 13,
   "metadata": {
    "ExecuteTime": {
     "end_time": "2018-05-22T20:41:12.062235Z",
     "start_time": "2018-05-22T20:41:12.022181Z"
    },
    "collapsed": false
   },
   "outputs": [
    {
     "data": {
      "text/plain": [
       "0"
      ]
     },
     "execution_count": 13,
     "metadata": {},
     "output_type": "execute_result"
    }
   ],
   "source": [
    "import os\n",
    "os.system('pdftotext 2005_Tamas_B._Revai_CPA.pdf 2005_Tamas_B._Revai_CPA.txt')"
   ]
  },
  {
   "cell_type": "code",
   "execution_count": 14,
   "metadata": {
    "ExecuteTime": {
     "end_time": "2018-05-22T20:41:12.748651Z",
     "start_time": "2018-05-22T20:41:12.740783Z"
    },
    "collapsed": false,
    "scrolled": true
   },
   "outputs": [
    {
     "data": {
      "text/plain": [
       "'1666 K Street, N.W.\\nWashington, DC 20006\\nTelephone: (202) 207-9100\\nFacsimile: (202) 862-8430\\nwww.pcaobus.org\\n\\nInspection of\\nTamas B. Revai, CPA\\n\\nIssued by the\\n\\nPublic Company Accounting Oversight Board\\nJune 23, 2005\\n\\nTHIS IS A PUBLIC VERSION OF A PCAOB INSPECTION REPORT\\nPORTIONS OF THE COMPLETE REPORT ARE OMITTED\\nFROM THIS DOCUMENT IN ORDER TO COMPLY WITH\\nSECTIONS 104(g)(2) AND 105(b)(5)(A)\\nOF THE SARBANES-OXLEY ACT OF 2002\\n\\nPCAOB RELEASE NO. 104-2005-022\\n\\n\\x0cPCAOB Release No. 104-2005-022\\n\\nNotes Concerning this Report\\n1. Portions of this report may describe deficiencies or potential deficiencies in the systems,\\npolicies, procedures, practices, or conduct of the firm that is the subject of this report.\\nThe express inclusion of certain deficiencies and potential deficiencies, however, should\\nnot be construed to support any negative inference that any other aspect of the firm\\'s\\nsystems, policies, procedures, practices, or conduct is approved or condoned by the\\nBoard or judged by the Board to comply with laws, rules, and professional standards.\\n2. Any references in this report to violations or potential violations of law, rules, or\\nprofessional standards should be understood in the supervisory context in which this\\nreport was prepared. Any such references are not a result of an adversarial adjudicative\\nprocess and do not constitute conclusive findings of fact or of violations for purposes of\\nimposing legal liability. Similarly, any description herein of a firm\\'s cooperation in\\naddressing issues constructively should not be construed, and is not construed by the\\nBoard, as an admission, for purposes of potential legal liability, of any violation.\\n3. Board inspections encompass, among other things, whether the firm has failed to\\nidentify departures from Generally Accepted Accounting Principles (\"GAAP\") in its audits\\nof financial statements. This report\\'s descriptions of any such auditing failures\\nnecessarily involve descriptions of the related GAAP departures. The Board, however,\\nhas no authority to prescribe the form or content of an issuer\\'s financial statements.\\nThat authority, and the authority to make binding determinations concerning an issuer\\'s\\ncompliance with GAAP, rests with the Securities and Exchange Commission (\"SEC\" or\\n\"Commission\"). Any description, in this report, of perceived departures from GAAP\\nshould not be understood as an indication that the Commission has considered or made\\nany determination regarding these GAAP issues unless otherwise expressly stated.\\n\\n\\x0cPCAOB Release No. 104-2005-022\\n\\nINSPECTION OF TAMAS B. REVAI, CPA\\nThe Public Company Accounting Oversight Board (\"PCAOB\" or \"the Board\") has\\nconducted an inspection of the registered public accounting firm Tamas B. Revai, CPA\\n(\"the Firm\"). The Board is issuing this report of that inspection in accordance with the\\nrequirements of the Sarbanes-Oxley Act of 2002 (\"the Act\").\\nThe Board is making portions of the report publicly available. Specifically, the\\nBoard is releasing to the public Part I of the report and portions of Part IV of the report.\\nPart IV of the report consists of the Firm\\'s comments, if any, on a draft of the report.1/\\nThe Board has elsewhere described in detail its approach to making inspectionrelated information publicly available consistent with legal restrictions.2/ A substantial\\nportion of the Board\\'s criticisms of a firm (specifically criticisms of the firm\\'s quality\\ncontrol system), and the Board\\'s dialogue with the firm about those criticisms, occurs\\nout of public view, unless the firm fails to make progress to the Board\\'s satisfaction in\\naddressing those criticisms. In addition, the Board generally does not disclose\\notherwise nonpublic information, learned through inspections, about the firm or its\\nclients. Accordingly, information in those categories generally does not appear in the\\npublicly available portion of an inspection report.\\n\\n1/\\n\\nThe Board does not make public any of a firm\\'s comments that address a\\nnonpublic portion of the report. In addition, pursuant to section 104(f) of the Act, 15\\nU.S.C. § 7214(f), and PCAOB Rule 4007(b), if a firm requests, and the Board grants,\\nconfidential treatment for any of the firm\\'s comments on a draft report, the Board does\\nnot include those comments in the final report at all. The Board notes that it routinely\\ngrants confidential treatment, if requested, for any of a firm\\'s comments that identify\\nfactually inaccurate statements, in the draft, that the Board corrects in the final report.\\n2/\\n\\nSee Statement Concerning the Issuance of Inspection Reports, PCAOB\\nRelease No. 104-2004-001 (August 26, 2004).\\n\\n\\x0cPCAOB Release No. 104-2005-022\\nInspection of Tamas B. Revai, CPA\\nJune 23, 2005\\nPage 2\\n\\nPART I\\nINSPECTION PROCEDURES AND CERTAIN OBSERVATIONS\\nMembers of the Board\\'s inspection staff (\"the inspection team\") conducted\\nfieldwork for the inspection on September 7, 2004 and October 7, 2004. The fieldwork\\nincluded procedures tailored to the nature of the Firm, certain aspects of which the\\ninspection team understood at the outset of the inspection to be as follows:\\nNumber of offices\\n\\n1 (New York, New York)\\n\\nOwnership structure\\n\\nSole proprietorship\\n\\nNumber of partners\\n\\n1\\n\\nNumber of professional staff3/\\n\\nNone\\n\\nNumber of issuer audit clients4/\\n\\nNone5/\\n\\nBoard inspections are designed to identify and address weaknesses and\\ndeficiencies related to how a firm conducts audits. To achieve that goal, Board\\ninspections include reviews of certain aspects of selected audits performed by the firm\\nand reviews of other matters related to the firm\\'s quality control system.\\nIn the course of reviewing aspects of selected audits, an inspection may identify\\nways in which a particular audit is deficient, including failures by the firm to identify, or to\\n3/\\n\\n\"Professional staff\" includes all personnel of the Firm, except partners or\\nshareholders and administrative support personnel.\\n4/\\n\\nThe number of issuer audit clients shown here is based on the Firm\\'s selfreporting and the inspection team\\'s review of certain information for inspection planning\\npurposes. It does not reflect any Board determination concerning which, or how many,\\nof the Firm\\'s audit clients are \"issuers\" as defined in the Act.\\n5/\\n\\nPrior to the beginning of the inspection field work, the Firm ceased to be\\nthe auditor of its single issuer client. The inspection team reviewed aspects of the\\nFirm\\'s most recent complete audit of this former client.\\n\\n\\x0cPCAOB Release No. 104-2005-022\\nInspection of Tamas B. Revai, CPA\\nJune 23, 2005\\nPage 3\\n\\naddress appropriately, respects in which an issuer\\'s financial statements do not present\\nfairly the financial position, results of operations, or cash flows of the issuer in\\nconformity with GAAP.6/ It is not the purpose of an inspection, however, to review all of\\na firm\\'s audits or to identify every respect in which a reviewed audit is deficient.\\nAccordingly, a Board inspection report should not be understood to provide any\\nassurance that the firm\\'s audits, or its issuer clients\\' financial statements, are free of any\\ndeficiencies not specifically described in an inspection report.\\nA.\\n\\nReview of Audit Engagement\\n\\nThe scope of the inspection procedures performed included review of aspects of\\nthe performance of the Firm\\'s audit of the financial statements of its issuer audit client.\\nThose aspects were selected according to the Board\\'s criteria, and the Firm was not\\nallowed an opportunity to limit or influence the selection process.\\nThe inspection team identified matters that it considered to be audit\\ndeficiencies.7/ The deficiencies identified included deficiencies of such significance that\\nit appeared to the inspection team that the Firm did not obtain sufficient competent\\nevidential matter to support its opinion on the issuer\\'s financial statements. Those\\ndeficiencies included –\\n(1)\\nthe pervasive failure to plan, perform, and document performance of the\\naudit or the quarterly reviews of interim financial information for the first three\\nquarters of the issuer\\'s fiscal year; and\\n6/\\n\\nWhen it comes to the Board\\'s attention that an\\nstatements appear not to present fairly, in a material respect, the\\nresults of operations or cash flows of the issuer in conformity with\\nreports that information to the SEC, which has jurisdiction to\\naccounting in issuers\\' financial statements.\\n7/\\n\\nissuer\\'s financial\\nfinancial position,\\nGAAP, the Board\\ndetermine proper\\n\\nPCAOB standards require a firm to take appropriate actions to assess the\\nimportance of audit deficiencies identified after the date of the audit report to the firm\\'s\\npresent ability to support its previously expressed opinions. See AU 390, Consideration\\nof Omitted Procedures After the Report Date, and AU 561, Subsequent Discovery of\\nFacts Existing at the Date of the Auditor\\'s Report (both included among the PCAOB\\'s\\ninterim auditing standards, pursuant to PCAOB Rule 3200T). Failure to comply with\\nthese PCAOB standards could be a basis for Board disciplinary sanctions.\\n\\n\\x0cPCAOB Release No. 104-2005-022\\nInspection of Tamas B. Revai, CPA\\nJune 23, 2005\\nPage 4\\n\\n(2)\\nthe failure to properly evaluate the issuer\\'s ability to continue as a going\\nconcern.\\nB.\\n\\nReview of Quality Control System\\n\\nIn addition to evaluating the quality of the audit work performed on a specific\\naudit, the inspection included review of certain of the Firm\\'s practices, policies and\\nprocedures related to audit quality. This review addressed practices, policies and\\nprocedures concerning audit performance, training, compliance with independence\\nstandards, client acceptance and retention, and the establishment of policies and\\nprocedures. As described above, any defects in, or criticisms of, the Firm\\'s quality\\ncontrol system are discussed in the nonpublic portion of this report and will remain\\nnonpublic unless the Firm fails to address them to the Board\\'s satisfaction within 12\\nmonths of the date of this report.\\nEND OF PART I\\n\\n\\x0cPCAOB Release No. 104-2005-022\\nInspection of Tamas B. Revai, CPA\\nJune 23, 2005\\nPage 5\\n\\nPARTS II AND III OF THIS REPORT ARE NONPUBLIC\\nAND ARE OMITTED FROM THIS PUBLIC DOCUMENT\\n\\n\\x0cPCAOB Release No. 104-2005-022\\nInspection of Tamas B. Revai, CPA\\nJune 23, 2005\\nPage 6\\n\\nPART IV\\nRESPONSE OF THE FIRM TO DRAFT INSPECTION REPORT\\nPursuant to section 104(f) of the Act, 15 U.S.C. § 7214(f), and PCAOB Rule\\n4007(a), the Board provided the Firm an opportunity to review and comment on a draft\\nof this report. The Firm provided a written response.\\nPursuant to section 104(f) of the Act and PCAOB Rule 4007(b), if a firm requests,\\nand the Board grants, confidential treatment for any of the firm\\'s comments on a draft\\nreport, the Board does not include those comments in the final report. The Board\\nroutinely grants confidential treatment, if requested, for any of a firm\\'s comments that\\nidentify factually inaccurate statements in the draft that the Board corrects in the final\\nreport.\\nPursuant to section 104(f) of the Act and PCAOB Rule 4007(b), the Firm\\'s\\nresponse, minus any portion granted confidential treatment, is attached hereto and\\nmade part of this final inspection report. In any version of this report that the Board\\nmakes publicly available, any portions of the Firm\\'s response that address nonpublic\\nportions of the report are omitted.\\nEND OF PART IV\\n\\n\\x0c\\x0c'"
      ]
     },
     "execution_count": 14,
     "metadata": {},
     "output_type": "execute_result"
    }
   ],
   "source": [
    "open('./2005_Tamas_B._Revai_CPA.txt', 'r').read()"
   ]
  },
  {
   "cell_type": "code",
   "execution_count": null,
   "metadata": {
    "collapsed": true
   },
   "outputs": [],
   "source": [
    "# Exercise 1\n",
    "# Write a `get_text_from_pdf` function that, given a filename, downloads the \n",
    "# PDF and returns its text."
   ]
  },
  {
   "cell_type": "markdown",
   "metadata": {},
   "source": [
    "Fields we're interested in:\n",
    "- `PCAOB Release No`\n",
    "- `Firm`\n",
    "- `Offices`\n",
    "- `Ownership structure`\n",
    "- `Date of Inspection Report`\n",
    "- `Inspection Period`\n",
    "- `Failures`"
   ]
  },
  {
   "cell_type": "markdown",
   "metadata": {},
   "source": [
    "### Parse \"`PCAOB Release No`\""
   ]
  },
  {
   "cell_type": "markdown",
   "metadata": {},
   "source": [
    "### Parse \"`Firm`\""
   ]
  },
  {
   "cell_type": "markdown",
   "metadata": {},
   "source": [
    "### Parse \"`Offices`\""
   ]
  },
  {
   "cell_type": "markdown",
   "metadata": {},
   "source": [
    "### Parse \"`Ownership structure`\""
   ]
  },
  {
   "cell_type": "markdown",
   "metadata": {},
   "source": [
    "### Parse \"`Date of Inspection Report`\""
   ]
  },
  {
   "cell_type": "markdown",
   "metadata": {},
   "source": [
    "### Parse \"`Inspection Period`\""
   ]
  },
  {
   "cell_type": "markdown",
   "metadata": {},
   "source": [
    "### Parse \"`Failures`\""
   ]
  },
  {
   "cell_type": "code",
   "execution_count": 4,
   "metadata": {
    "ExecuteTime": {
     "end_time": "2018-05-14T20:51:22.296034Z",
     "start_time": "2018-05-14T20:51:01.319234Z"
    },
    "collapsed": false
   },
   "outputs": [
    {
     "name": "stdout",
     "output_type": "stream",
     "text": [
      "\n",
      "{'Date of Inspection Report': datetime.datetime(2005, 6, 23, 0, 0),\n",
      " 'Failures': ['the pervasive failure to plan, perform, and document '\n",
      "              'performance of the audit or the quarterly reviews of interim '\n",
      "              'financial information for the first three quarters of the '\n",
      "              \"issuer's fiscal year\",\n",
      "              \"the failure to properly evaluate the issuer's ability to \"\n",
      "              'continue as a going concern. B.'],\n",
      " 'Firm': 'Tamas B. Revai, CPA',\n",
      " 'Inspection Period': [datetime.datetime(2004, 9, 7, 0, 0),\n",
      "                       datetime.datetime(2004, 10, 7, 0, 0)],\n",
      " 'Offices': '1 (New York, New York)',\n",
      " 'Ownership structure': 'Sole proprietorship',\n",
      " 'PCAOB Release No': '104-2005-022'}\n",
      "\n",
      "{'Date of Inspection Report': datetime.datetime(2014, 10, 30, 0, 0),\n",
      " 'Failures': ['the failure to perform sufficient procedures related to '\n",
      "              'revenue, including the failure to perform the necessary risk '\n",
      "              'assessment procedures (AS No. 12, paragraphs 4 and 68',\n",
      "              'the failure to perform procedures to evaluate whether goodwill '\n",
      "              'was impaired, including the failure to perform the necessary '\n",
      "              'risk assessment'],\n",
      " 'Firm': \"Bravos & Associates CPA's\",\n",
      " 'Inspection Period': [datetime.datetime(2014, 3, 17, 0, 0),\n",
      "                       datetime.datetime(2014, 3, 22, 0, 0)],\n",
      " 'Offices': '1 (Bloomingdale, Illinois)',\n",
      " 'Ownership structure': 'Sole proprietorship',\n",
      " 'PCAOB Release No': '104-2015-004'}\n"
     ]
    }
   ],
   "source": [
    "# Standard library\n",
    "import os\n",
    "import re\n",
    "import json\n",
    "from collections import Counter\n",
    "from pprint import PrettyPrinter\n",
    "\n",
    "# Third-party\n",
    "import requests\n",
    "from dateutil import parser\n",
    "from duckling import DucklingWrapper\n",
    "\n",
    "PPRINTER = PrettyPrinter()\n",
    "DUCK_PARSER = DucklingWrapper()\n",
    "\n",
    "def get_text_from_pdf(filename):\n",
    "    url = 'https://pcaobus.org/Inspections/Reports/Documents/%s.pdf' % filename\n",
    "    res = requests.get(url)\n",
    "    with open('./%s.pdf' % filename, 'wb') as f:\n",
    "        f.write(res.content)\n",
    "    os.system('pdftotext %s.pdf %s.txt' % (filename, filename)) # If format is important, use \"pdftohtml\"\n",
    "    return open('./%s.txt' % filename, 'r').read()\n",
    "\n",
    "def get_field_from_regex(text, pattern, flags=0, most_common=True):\n",
    "    matches = re.findall(pattern, text, flags=flags)\n",
    "    clean = [' '.join(i.strip().split()) for i in matches]\n",
    "    if most_common:\n",
    "        counts = Counter(clean)\n",
    "        final = counts.most_common()[0][0]\n",
    "    else:\n",
    "        final = clean\n",
    "    return final\n",
    "\n",
    "def get_dates(text):\n",
    "    parsed = DUCK_PARSER.parse_time(text)\n",
    "    values = [i['value']['value'] for i in parsed if 'grain' in i['value'] and \n",
    "              i['value']['grain'] == 'day']\n",
    "    final = sorted([parser.parse(i).replace(tzinfo=None) for i in values])\n",
    "    return final\n",
    "\n",
    "def get_period_of_inspection(text):\n",
    "    par = get_field_from_regex(text, \n",
    "                               r'INSPECTION PROCEDURES AND CERTAIN OBSERVATIONS(.*?)\\n\\n', \n",
    "                               flags=re.DOTALL)\n",
    "    parsed = DUCK_PARSER.parse_time(par)\n",
    "    values = [i for i in parsed if isinstance(i['value']['value'], dict) and\n",
    "              'to' in i['value']['value']]\n",
    "    if not values:\n",
    "        final = get_dates(par)\n",
    "    else:\n",
    "        final = [parser.parse(values[0]['value']['value']['from']).replace(tzinfo=None), \n",
    "                 parser.parse(values[0]['value']['value']['to']).replace(tzinfo=None)]\n",
    "    return final\n",
    "\n",
    "def parse_text(text):\n",
    "    return {\n",
    "    \n",
    "        'PCAOB Release No': get_field_from_regex(text=text,\n",
    "                                                 pattern=r'PCAOB Release No. (\\d{3}-\\d{4}-\\d{3})',\n",
    "                                                 flags=re.IGNORECASE),\n",
    "\n",
    "        'Firm': get_field_from_regex(text=text,\n",
    "                                     pattern=r'Inspection of (.*?)\\n'),\n",
    "\n",
    "        'Offices': get_field_from_regex(text=text,\n",
    "                                        pattern=r'Number of offices(.*?)Ownership',\n",
    "                                        flags=re.DOTALL),\n",
    "\n",
    "        'Ownership structure': get_field_from_regex(text=text,\n",
    "                                                    pattern=r'Ownership structure(.*?)Number of partners',\n",
    "                                                    flags=re.DOTALL),\n",
    "\n",
    "        'Date of Inspection Report': get_dates(text=text.split('\\x0c')[0])[0],\n",
    "\n",
    "        'Inspection Period': get_period_of_inspection(text=text),\n",
    "\n",
    "        'Failures': get_field_from_regex(text=text,\n",
    "                                         pattern=r'\\n\\(\\d\\)((?:.*?)failure(?:.*?))(?:\\n\\n|;)',\n",
    "                                         flags=re.DOTALL,\n",
    "                                         most_common=False)\n",
    "        }\n",
    "\n",
    "pdfs = [\n",
    "    '2005_Tamas_B._Revai_CPA',\n",
    "    '2015_Bravos_Associates'\n",
    "]\n",
    "\n",
    "for pdf in pdfs:\n",
    "    print()\n",
    "    text = get_text_from_pdf(pdf)\n",
    "    parsed = parse_text(text)\n",
    "    PPRINTER.pprint(parsed)\n",
    "\n"
   ]
  }
 ],
 "metadata": {
  "kernelspec": {
   "display_name": "Python 3",
   "language": "python",
   "name": "python3"
  },
  "language_info": {
   "codemirror_mode": {
    "name": "ipython",
    "version": 3
   },
   "file_extension": ".py",
   "mimetype": "text/x-python",
   "name": "python",
   "nbconvert_exporter": "python",
   "pygments_lexer": "ipython3",
   "version": "3.6.0"
  }
 },
 "nbformat": 4,
 "nbformat_minor": 2
}
