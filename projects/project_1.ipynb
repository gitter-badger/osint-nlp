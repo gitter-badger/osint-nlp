{
 "cells": [
  {
   "cell_type": "markdown",
   "metadata": {},
   "source": [
    "## Research Project 1\n",
    "```text\n",
    "- Source: Reuters\n",
    "- Goal: Build headline aggregator (e.g. Google News)\n",
    "- Techniques: Word Embeddings, Cosine Similarity\n",
    "- Tools: Tensorflow Hub\n",
    "- Lines of code: ~70```"
   ]
  },
  {
   "cell_type": "markdown",
   "metadata": {},
   "source": [
    "### Request pages"
   ]
  },
  {
   "cell_type": "code",
   "execution_count": 115,
   "metadata": {
    "ExecuteTime": {
     "end_time": "2018-05-21T20:27:10.980547Z",
     "start_time": "2018-05-21T20:27:10.977187Z"
    },
    "collapsed": true
   },
   "outputs": [],
   "source": [
    "# Let's go on reuters.com and pick a URL\n",
    "url = 'https://www.reuters.com/finance/stocks/company-news/AAPL.O?date=05102018'"
   ]
  },
  {
   "cell_type": "code",
   "execution_count": 166,
   "metadata": {
    "ExecuteTime": {
     "end_time": "2018-05-21T21:00:33.783882Z",
     "start_time": "2018-05-21T21:00:33.636702Z"
    }
   },
   "outputs": [
    {
     "data": {
      "text/plain": [
       "66395"
      ]
     },
     "execution_count": 166,
     "metadata": {},
     "output_type": "execute_result"
    }
   ],
   "source": [
    "# Get that page\n",
    "import requests\n",
    "res = requests.get(url)\n",
    "len(res.content)"
   ]
  },
  {
   "cell_type": "code",
   "execution_count": 167,
   "metadata": {
    "ExecuteTime": {
     "end_time": "2018-05-21T21:00:36.196656Z",
     "start_time": "2018-05-21T21:00:36.191151Z"
    }
   },
   "outputs": [
    {
     "data": {
      "text/plain": [
       "b'<!--[if !IE]> This has been served from cache <![endif]-->\\n<!--[if !IE]> Request served from apache server: produs--i-0874a8ac4d6c75691 <![endif]-->\\n<!--[if !IE]> Cached on Tue, 22 May 2018 00:27:18 GMT and will expire on Tue, 22 May 2018 00:37:17 GMT <![endif]-->\\n<!--[if !IE]> token: e9695e1d-1533-4873-a2db-e6559a504258 <![endif]-->\\n<!--[if !IE]> App Server /produs--i-08256f73e534880fa/ <![endif]-->\\n\\n<!doctype html><html lang=\"en\"><head>\\n<title>Apple Inc (AAPL.O)  News| Reuters.com</title>\\n    <meta http-equiv=\"X-UA-Compatible\" content=\"IE=edge\"><meta charset=\"utf-8\"><meta http-equiv=\"x-dns-prefetch-control\" content=\"on\"><link rel=\"dns-prefetch\" href=\"//s1.reutersmedia.net\"/><link rel=\"dns-prefetch\" href=\"//s2.reutersmedia.net\"/><link rel=\"dns-prefetch\" href=\"//s3.reutersmedia.net\"/><link rel=\"dns-prefetch\" href=\"//s4.reutersmedia.net\"/><link rel=\"dns-prefetch\" href=\"//static.reuters.com\"/><link rel=\"dns-prefetch\" href=\"//www.googletagservices.com\"/><link rel=\"dns-prefetch\" href=\"//ww'"
      ]
     },
     "execution_count": 167,
     "metadata": {},
     "output_type": "execute_result"
    }
   ],
   "source": [
    "res.content[:1000] "
   ]
  },
  {
   "cell_type": "markdown",
   "metadata": {
    "heading_collapsed": true
   },
   "source": [
    "### Parse pages"
   ]
  },
  {
   "cell_type": "code",
   "execution_count": 117,
   "metadata": {
    "ExecuteTime": {
     "end_time": "2018-05-21T20:27:14.422019Z",
     "start_time": "2018-05-21T20:27:14.382727Z"
    },
    "hidden": true
   },
   "outputs": [
    {
     "data": {
      "text/plain": [
       "[<Element head at 0x14ced1a98>, <Element body at 0x14ced1b88>]"
      ]
     },
     "execution_count": 117,
     "metadata": {},
     "output_type": "execute_result"
    }
   ],
   "source": [
    "# Parse HTML\n",
    "from lxml import html\n",
    "tree = html.fromstring(res.content)\n",
    "tree.getchildren()"
   ]
  },
  {
   "cell_type": "code",
   "execution_count": 118,
   "metadata": {
    "ExecuteTime": {
     "end_time": "2018-05-21T20:27:15.186976Z",
     "start_time": "2018-05-21T20:27:15.176807Z"
    },
    "collapsed": true,
    "hidden": true
   },
   "outputs": [],
   "source": [
    "# What children do we need?\n",
    "children = tree.xpath('//div[@class=\"feature\"]')"
   ]
  },
  {
   "cell_type": "code",
   "execution_count": 119,
   "metadata": {
    "ExecuteTime": {
     "end_time": "2018-05-21T20:27:15.915924Z",
     "start_time": "2018-05-21T20:27:15.908477Z"
    },
    "hidden": true
   },
   "outputs": [
    {
     "data": {
      "text/plain": [
       "['US STOCKS-Wall St rallies and Apple approaches $1 trillion value',\n",
       " '\\n\\t',\n",
       " '* Indexes up: Dow 0.80 pct, S&P 500 0.94 pct, Nasdaq 0.89\\npct\\n(Updates to close)',\n",
       " '\\n\\t']"
      ]
     },
     "execution_count": 119,
     "metadata": {},
     "output_type": "execute_result"
    }
   ],
   "source": [
    "list(children[0].itertext())"
   ]
  },
  {
   "cell_type": "code",
   "execution_count": 120,
   "metadata": {
    "ExecuteTime": {
     "end_time": "2018-05-21T20:27:16.706393Z",
     "start_time": "2018-05-21T20:27:16.697670Z"
    },
    "hidden": true
   },
   "outputs": [
    {
     "data": {
      "text/plain": [
       "['US STOCKS-Wall St rallies and Apple approaches $1 trillion value',\n",
       " 'UPDATE 1-Goldman Sachs, Apple to launch joint credit card - WSJ',\n",
       " 'Goldman Sachs, Apple to launch joint credit card - WSJ',\n",
       " 'BRIEF-Apple, Goldman Sachs Team Up On New Credit Card - WSJ',\n",
       " 'Apple scraps $1 billion Irish data center over planning delays',\n",
       " 'Apple drops plans for data centre in Ireland due to planning delays - RTE']"
      ]
     },
     "execution_count": 120,
     "metadata": {},
     "output_type": "execute_result"
    }
   ],
   "source": [
    "# Get headlines\n",
    "headlines = [list(child.itertext())[0] for child in children]\n",
    "headlines"
   ]
  },
  {
   "cell_type": "code",
   "execution_count": null,
   "metadata": {
    "collapsed": true,
    "hidden": true
   },
   "outputs": [],
   "source": [
    "# Exercise 1\n",
    "# Write a `get_ticker_headlines` function that, given a date and a ticker,\n",
    "# returns the headlines on reuters.com\n",
    "\n",
    "# Exercise 2\n",
    "# Write a `get_all_headlines` function that, given a start date, a number of\n",
    "# days, and a list of tickers, returns the headlines on reuters.com. Have this\n",
    "# function call `get_ticker_headlines` for each ticker and date."
   ]
  },
  {
   "cell_type": "markdown",
   "metadata": {
    "heading_collapsed": true
   },
   "source": [
    "### Vectorize pages"
   ]
  },
  {
   "cell_type": "code",
   "execution_count": 121,
   "metadata": {
    "ExecuteTime": {
     "end_time": "2018-05-21T20:27:18.020269Z",
     "start_time": "2018-05-21T20:27:18.014203Z"
    },
    "collapsed": true,
    "hidden": true
   },
   "outputs": [],
   "source": [
    "# If we want to cluster these headlines, we have 2 options:\n",
    "# 1) heuristics\n",
    "# 2) machine learning\n",
    "\n",
    "# Which one to choose?\n",
    "# simple heuristics > machine learning > complex heuristics\n",
    "\n",
    "# How would the heuristics look like? We would have to:\n",
    "# 1) remove initial and final capital words\n",
    "# 2) lowercase sentence\n",
    "# 3) remove punctuation\n",
    "# 4) generate a set of possible sentences using synonims\n",
    "# 5) count the common words and pick the pairs with highest values\n",
    "\n",
    "# ... vs ...\n",
    "\n",
    "# 1) use word embeddings"
   ]
  },
  {
   "cell_type": "code",
   "execution_count": 122,
   "metadata": {
    "ExecuteTime": {
     "end_time": "2018-05-21T20:27:22.936521Z",
     "start_time": "2018-05-21T20:27:19.498596Z"
    },
    "collapsed": true,
    "hidden": true
   },
   "outputs": [],
   "source": [
    "EMBED = hub.Module(\"https://tfhub.dev/google/universal-sentence-encoder/1\")"
   ]
  },
  {
   "cell_type": "code",
   "execution_count": 123,
   "metadata": {
    "ExecuteTime": {
     "end_time": "2018-05-21T20:27:30.021946Z",
     "start_time": "2018-05-21T20:27:26.490327Z"
    },
    "collapsed": true,
    "hidden": true
   },
   "outputs": [],
   "source": [
    "embeddings = EMBED(headlines)"
   ]
  },
  {
   "cell_type": "code",
   "execution_count": 124,
   "metadata": {
    "ExecuteTime": {
     "end_time": "2018-05-21T20:27:31.160194Z",
     "start_time": "2018-05-21T20:27:31.153330Z"
    },
    "hidden": true
   },
   "outputs": [
    {
     "data": {
      "text/plain": [
       "<tf.Tensor 'module_4_apply_default/Encoder_en/hidden_layers/l2_normalize:0' shape=(?, 512) dtype=float32>"
      ]
     },
     "execution_count": 124,
     "metadata": {},
     "output_type": "execute_result"
    }
   ],
   "source": [
    "embeddings"
   ]
  },
  {
   "cell_type": "code",
   "execution_count": 125,
   "metadata": {
    "ExecuteTime": {
     "end_time": "2018-05-21T20:28:56.228850Z",
     "start_time": "2018-05-21T20:27:32.619411Z"
    },
    "collapsed": true,
    "hidden": true
   },
   "outputs": [],
   "source": [
    "with tf.Session() as session:\n",
    "    session.run([tf.global_variables_initializer(), \n",
    "                 tf.tables_initializer()])\n",
    "    transformed = session.run(embeddings) "
   ]
  },
  {
   "cell_type": "code",
   "execution_count": 128,
   "metadata": {
    "ExecuteTime": {
     "end_time": "2018-05-21T20:29:11.432371Z",
     "start_time": "2018-05-21T20:29:11.425409Z"
    },
    "hidden": true
   },
   "outputs": [
    {
     "name": "stdout",
     "output_type": "stream",
     "text": [
      "Sentence = \"US STOCKS-Wall St rallies and Apple approaches $1 trillion value\"\n",
      "Encoding = [ 0.05164596  0.044956   -0.02946323]\n"
     ]
    }
   ],
   "source": [
    "print('Sentence = \"%s\"\\nEncoding = %s' % (headlines[0], transformed[0][:3]))"
   ]
  },
  {
   "cell_type": "markdown",
   "metadata": {
    "heading_collapsed": true
   },
   "source": [
    "### Cluster pages"
   ]
  },
  {
   "cell_type": "code",
   "execution_count": 130,
   "metadata": {
    "ExecuteTime": {
     "end_time": "2018-05-21T20:30:49.450212Z",
     "start_time": "2018-05-21T20:30:49.438524Z"
    },
    "hidden": true
   },
   "outputs": [
    {
     "data": {
      "text/plain": [
       "array([[0.9999998 , 0.6304252 , 0.71410525, 0.6446738 , 0.6522328 ,\n",
       "        0.44674984],\n",
       "       [0.6304252 , 1.        , 0.92891455, 0.7896416 , 0.6916854 ,\n",
       "        0.5669955 ],\n",
       "       [0.71410525, 0.92891455, 1.        , 0.85746527, 0.66935897,\n",
       "        0.4865934 ],\n",
       "       [0.6446738 , 0.7896416 , 0.85746527, 0.99999994, 0.55105186,\n",
       "        0.3648151 ],\n",
       "       [0.6522328 , 0.6916854 , 0.66935897, 0.55105186, 0.99999976,\n",
       "        0.8390436 ],\n",
       "       [0.44674984, 0.5669955 , 0.4865934 , 0.3648151 , 0.8390436 ,\n",
       "        1.        ]], dtype=float32)"
      ]
     },
     "execution_count": 130,
     "metadata": {},
     "output_type": "execute_result"
    }
   ],
   "source": [
    "from sklearn.metrics.pairwise import cosine_similarity\n",
    "sims = cosine_similarity(transformed, transformed)\n",
    "sims"
   ]
  },
  {
   "cell_type": "code",
   "execution_count": 136,
   "metadata": {
    "ExecuteTime": {
     "end_time": "2018-05-21T20:31:28.853186Z",
     "start_time": "2018-05-21T20:31:28.847509Z"
    },
    "hidden": true
   },
   "outputs": [
    {
     "name": "stdout",
     "output_type": "stream",
     "text": [
      "0.9999998\n",
      "1.0\n",
      "1.0\n"
     ]
    }
   ],
   "source": [
    "print(sims[0][0]); print(sims[1][1]); print(sims[2][2])"
   ]
  },
  {
   "cell_type": "code",
   "execution_count": 168,
   "metadata": {
    "ExecuteTime": {
     "end_time": "2018-05-21T21:34:58.404383Z",
     "start_time": "2018-05-21T21:34:58.400588Z"
    },
    "collapsed": true,
    "hidden": true
   },
   "outputs": [],
   "source": [
    "# Exercise 3\n",
    "# Write a `get_similarities` function that, given a list of headlines,\n",
    "# returns their cosine similarity matrix. Assert that all diagonal elements\n",
    "# are equal to 1."
   ]
  },
  {
   "cell_type": "code",
   "execution_count": 158,
   "metadata": {
    "ExecuteTime": {
     "end_time": "2018-05-21T20:48:22.337527Z",
     "start_time": "2018-05-21T20:48:22.328036Z"
    },
    "collapsed": true,
    "hidden": true
   },
   "outputs": [],
   "source": [
    "pairs = []\n",
    "for row in range(sims.shape[0]):\n",
    "    for column in range(row + 1, sims.shape[1]):\n",
    "        pair = (row, column, sims[row][column])\n",
    "        pairs.append(pair)"
   ]
  },
  {
   "cell_type": "code",
   "execution_count": 160,
   "metadata": {
    "ExecuteTime": {
     "end_time": "2018-05-21T20:48:59.418873Z",
     "start_time": "2018-05-21T20:48:59.414582Z"
    },
    "collapsed": true,
    "hidden": true
   },
   "outputs": [],
   "source": [
    "pairs = sorted(pairs, key=lambda x: x[2], reverse=True)"
   ]
  },
  {
   "cell_type": "code",
   "execution_count": 161,
   "metadata": {
    "ExecuteTime": {
     "end_time": "2018-05-21T20:49:30.109562Z",
     "start_time": "2018-05-21T20:49:30.098999Z"
    },
    "hidden": true
   },
   "outputs": [
    {
     "name": "stdout",
     "output_type": "stream",
     "text": [
      "\n",
      "0.93\n",
      "UPDATE 1-Goldman Sachs, Apple to launch joint credit card - WSJ\n",
      "Goldman Sachs, Apple to launch joint credit card - WSJ\n",
      "\n",
      "0.86\n",
      "Goldman Sachs, Apple to launch joint credit card - WSJ\n",
      "BRIEF-Apple, Goldman Sachs Team Up On New Credit Card - WSJ\n",
      "\n",
      "0.84\n",
      "Apple scraps $1 billion Irish data center over planning delays\n",
      "Apple drops plans for data centre in Ireland due to planning delays - RTE\n",
      "\n",
      "0.79\n",
      "UPDATE 1-Goldman Sachs, Apple to launch joint credit card - WSJ\n",
      "BRIEF-Apple, Goldman Sachs Team Up On New Credit Card - WSJ\n",
      "\n",
      "0.71\n",
      "US STOCKS-Wall St rallies and Apple approaches $1 trillion value\n",
      "Goldman Sachs, Apple to launch joint credit card - WSJ\n",
      "\n",
      "0.69\n",
      "UPDATE 1-Goldman Sachs, Apple to launch joint credit card - WSJ\n",
      "Apple scraps $1 billion Irish data center over planning delays\n",
      "\n",
      "0.67\n",
      "Goldman Sachs, Apple to launch joint credit card - WSJ\n",
      "Apple scraps $1 billion Irish data center over planning delays\n",
      "\n",
      "0.65\n",
      "US STOCKS-Wall St rallies and Apple approaches $1 trillion value\n",
      "Apple scraps $1 billion Irish data center over planning delays\n",
      "\n",
      "0.64\n",
      "US STOCKS-Wall St rallies and Apple approaches $1 trillion value\n",
      "BRIEF-Apple, Goldman Sachs Team Up On New Credit Card - WSJ\n",
      "\n",
      "0.63\n",
      "US STOCKS-Wall St rallies and Apple approaches $1 trillion value\n",
      "UPDATE 1-Goldman Sachs, Apple to launch joint credit card - WSJ\n",
      "\n",
      "0.57\n",
      "UPDATE 1-Goldman Sachs, Apple to launch joint credit card - WSJ\n",
      "Apple drops plans for data centre in Ireland due to planning delays - RTE\n",
      "\n",
      "0.55\n",
      "BRIEF-Apple, Goldman Sachs Team Up On New Credit Card - WSJ\n",
      "Apple scraps $1 billion Irish data center over planning delays\n",
      "\n",
      "0.49\n",
      "Goldman Sachs, Apple to launch joint credit card - WSJ\n",
      "Apple drops plans for data centre in Ireland due to planning delays - RTE\n",
      "\n",
      "0.45\n",
      "US STOCKS-Wall St rallies and Apple approaches $1 trillion value\n",
      "Apple drops plans for data centre in Ireland due to planning delays - RTE\n",
      "\n",
      "0.36\n",
      "BRIEF-Apple, Goldman Sachs Team Up On New Credit Card - WSJ\n",
      "Apple drops plans for data centre in Ireland due to planning delays - RTE\n"
     ]
    }
   ],
   "source": [
    "for pair in pairs:\n",
    "    print('\\n%.2f\\n%s\\n%s' % (pair[2],\n",
    "                              headlines[pair[0]], \n",
    "                              headlines[pair[1]]))"
   ]
  },
  {
   "cell_type": "code",
   "execution_count": null,
   "metadata": {
    "collapsed": true,
    "hidden": true
   },
   "outputs": [],
   "source": []
  }
 ],
 "metadata": {
  "kernelspec": {
   "display_name": "Python 3",
   "language": "python",
   "name": "python3"
  },
  "language_info": {
   "codemirror_mode": {
    "name": "ipython",
    "version": 3
   },
   "file_extension": ".py",
   "mimetype": "text/x-python",
   "name": "python",
   "nbconvert_exporter": "python",
   "pygments_lexer": "ipython3",
   "version": "3.6.5"
  },
  "toc": {
   "base_numbering": 1,
   "nav_menu": {},
   "number_sections": true,
   "sideBar": true,
   "skip_h1_title": false,
   "title_cell": "Table of Contents",
   "title_sidebar": "Contents",
   "toc_cell": false,
   "toc_position": {},
   "toc_section_display": true,
   "toc_window_display": false
  }
 },
 "nbformat": 4,
 "nbformat_minor": 2
}
