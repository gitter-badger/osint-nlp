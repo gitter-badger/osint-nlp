{
 "cells": [
  {
   "cell_type": "markdown",
   "metadata": {},
   "source": [
    "## Research Project 1\n",
    "```text\n",
    "- Source: Reuters\n",
    "- Goal: Build headline aggregator (e.g. Google News)\n",
    "- Techniques: TFIDF, Word Embeddings, Cosine Similarity\n",
    "- Tools: GloVe\n",
    "- Lines of code: ~100```"
   ]
  },
  {
   "cell_type": "code",
   "execution_count": 4,
   "metadata": {
    "ExecuteTime": {
     "end_time": "2018-05-19T17:31:01.469823Z",
     "start_time": "2018-05-19T17:31:01.444434Z"
    },
    "collapsed": true
   },
   "outputs": [],
   "source": [
    "# Let's go on reuters.com and pick a URL\n",
    "url = 'https://www.reuters.com/finance/stocks/company-news/AAPL.O?date=05102018'"
   ]
  },
  {
   "cell_type": "code",
   "execution_count": 9,
   "metadata": {
    "ExecuteTime": {
     "end_time": "2018-05-19T17:32:21.041226Z",
     "start_time": "2018-05-19T17:32:20.905211Z"
    },
    "collapsed": false
   },
   "outputs": [
    {
     "data": {
      "text/plain": [
       "b'<!--[if !IE]> This has NOT been served from cache <![endif]-->\\n<!--[if !IE]> Request served from apache server: produs--i-0211636dda8f9f281 <![endif]-->\\n<!--[if !IE]> token: f6fab749-fff3-4017-a510-dfd50d24e039 <![endif]-->\\n<!--[if !IE]> App Server /produs--i-0211636dda8f9f281/ <![endif]-->\\n\\n<!doctype html><html lang=\"en\"><head>\\n<title>Apple Inc (AAPL.O)  News| Reuters.com</title>\\n    <meta http-equiv=\"X-UA-Compatible\" content=\"IE=edge\"><meta charset=\"utf-8\"><meta http-equiv=\"x-dns-prefetch-control\" content=\"on\"><link rel=\"dns-prefetch\" href=\"//s1.reutersmedia.net\"/><link rel=\"dns-prefetch\" href=\"//s2.reutersmedia.net\"/><link rel=\"dns-prefetch\" href=\"//s3.reutersmedia.net\"/><link rel=\"dns-prefetch\" href=\"//s4.reutersmedia.net\"/><link rel=\"dns-prefetch\" href=\"//static.reuters.com\"/><link rel=\"dns-prefetch\" href=\"//www.googletagservices.com\"/><link rel=\"dns-prefetch\" href=\"//www.googletagmanager.com\"/><link rel=\"dns-prefetch\" href=\"//www.google-analytics.com\"/><link rel=\"dns-prefetch\" hr'"
      ]
     },
     "execution_count": 9,
     "metadata": {},
     "output_type": "execute_result"
    }
   ],
   "source": [
    "# Get that page\n",
    "import requests\n",
    "res = requests.get(url)\n",
    "res.content[:1000]"
   ]
  },
  {
   "cell_type": "code",
   "execution_count": 19,
   "metadata": {
    "ExecuteTime": {
     "end_time": "2018-05-20T15:24:20.685315Z",
     "start_time": "2018-05-20T15:24:20.667509Z"
    },
    "collapsed": false
   },
   "outputs": [
    {
     "data": {
      "text/plain": [
       "[<Element head at 0x128e98368>, <Element body at 0x11f6a1318>]"
      ]
     },
     "execution_count": 19,
     "metadata": {},
     "output_type": "execute_result"
    }
   ],
   "source": [
    "# Parse HTML\n",
    "from lxml import html\n",
    "tree = html.fromstring(res.content)\n",
    "tree.getchildren()"
   ]
  },
  {
   "cell_type": "code",
   "execution_count": 20,
   "metadata": {
    "ExecuteTime": {
     "end_time": "2018-05-20T15:24:21.561221Z",
     "start_time": "2018-05-20T15:24:21.552057Z"
    },
    "collapsed": true
   },
   "outputs": [],
   "source": [
    "# What children do we need?\n",
    "children = tree.xpath('//div[@class=\"feature\"]')"
   ]
  },
  {
   "cell_type": "code",
   "execution_count": 23,
   "metadata": {
    "ExecuteTime": {
     "end_time": "2018-05-20T15:24:58.719793Z",
     "start_time": "2018-05-20T15:24:58.709222Z"
    },
    "collapsed": false
   },
   "outputs": [
    {
     "data": {
      "text/plain": [
       "['US STOCKS-Wall St rallies and Apple approaches $1 trillion value',\n",
       " '\\n\\t',\n",
       " '* Indexes up: Dow 0.80 pct, S&P 500 0.94 pct, Nasdaq 0.89\\npct\\n(Updates to close)',\n",
       " '\\n\\t']"
      ]
     },
     "execution_count": 23,
     "metadata": {},
     "output_type": "execute_result"
    }
   ],
   "source": [
    "list(children[0].itertext())"
   ]
  },
  {
   "cell_type": "code",
   "execution_count": 22,
   "metadata": {
    "ExecuteTime": {
     "end_time": "2018-05-20T15:24:28.091359Z",
     "start_time": "2018-05-20T15:24:28.084680Z"
    },
    "collapsed": false
   },
   "outputs": [
    {
     "data": {
      "text/plain": [
       "['US STOCKS-Wall St rallies and Apple approaches $1 trillion value',\n",
       " 'UPDATE 1-Goldman Sachs, Apple to launch joint credit card - WSJ',\n",
       " 'Goldman Sachs, Apple to launch joint credit card - WSJ',\n",
       " 'BRIEF-Apple, Goldman Sachs Team Up On New Credit Card - WSJ',\n",
       " 'Apple scraps $1 billion Irish data center over planning delays',\n",
       " 'Apple drops plans for data centre in Ireland due to planning delays - RTE']"
      ]
     },
     "execution_count": 22,
     "metadata": {},
     "output_type": "execute_result"
    }
   ],
   "source": [
    "# Get headlines\n",
    "headlines = [list(child.itertext())[0] for child in children]\n",
    "headlines"
   ]
  },
  {
   "cell_type": "code",
   "execution_count": null,
   "metadata": {
    "collapsed": true
   },
   "outputs": [],
   "source": []
  },
  {
   "cell_type": "markdown",
   "metadata": {},
   "source": [
    "### Final code"
   ]
  },
  {
   "cell_type": "code",
   "execution_count": 3,
   "metadata": {
    "ExecuteTime": {
     "end_time": "2018-05-14T20:41:14.652595Z",
     "start_time": "2018-05-14T20:40:59.276822Z"
    },
    "collapsed": false
   },
   "outputs": [
    {
     "name": "stdout",
     "output_type": "stream",
     "text": [
      "0) UPDATE 3-Apple plans to replace Intel chips in Macs with its own -Bloomberg (2018-04-02)\n",
      "1) Apple discloses gender pay gap at UK operations (2018-04-03)\n",
      "\t2) BRIEF-Apple Reports Mean Pay Gap In UK Is 5 Pct Lower For Women (2018-04-03)\n",
      "3) Tech, trade fears weighed on European shares (2018-04-03)\n",
      "\t4) UPDATE 2-Tech, trade fears weighed on European shares (2018-04-03)\n",
      "5) BOLSAS EUROPA-Tecnológicas, receios comércio pesam nas acções europeias (2018-04-03)\n",
      "6) Apple Pay arrives in Brazil, partnering with Itaú Unibanco (2018-04-04)\n",
      "\t7) Apple Pay arrives in Brazil, partnering with Itaú Unibanco (2018-04-04)\n",
      "8) Apple says repeal of U.S. EPA carbon plan would threaten investments (2018-04-06)\n",
      "9) Apple says all its facilities now powered by clean energy (2018-04-09)\n",
      "10) BRIEF-Apple Introduces iPhone 8 And iPhone 8 Plus Red Special Edition (2018-04-09)\n",
      "\t14) CORRECTED-Apple Music appoints new head, hits 48 mln subscribers (2018-04-11)\n",
      "11) Xiaomi pushes for smartphone component suppliers to invest in India (2018-04-09)\n",
      "\t12) UPDATE 1-Xiaomi pushes for smartphone component suppliers to invest in India (2018-04-09)\n",
      "13) Apple adds Isaac Asimov sci-fi series to TV development list (2018-04-10)\n",
      "15) EXCLUSIVE-BlackRock's biggest stock-picking fund likes Facebook shares (2018-04-16)\n",
      "\t16) RPT-EXCLUSIVE-BlackRock's biggest stock-picking fund likes Facebook shares (2018-04-17)\n",
      "17) US STOCKS-Tobacco and tech drag on Wall St; yields boost banks (2018-04-19)\n",
      "\t18) US STOCKS-Tobacco and tech push Wall St down; yields boost banks (2018-04-19)\n",
      "\t21) US STOCKS-Apple, Philip Morris, chip stocks lead Wall Street slide (2018-04-19)\n",
      "\t22) US STOCKS-Apple, P&G and chip stocks lead Wall St lower (2018-04-19)\n",
      "\t23) US STOCKS SNAPSHOT-Wall Street opens lower as chip stocks, Apple drag (2018-04-19)\n",
      "\t24) US STOCKS-Wall St eyes lower opening as chip stocks, Apple drop (2018-04-19)\n",
      "\t25) U.S. yield hits four-year high; stocks fall on tech sector (2018-04-20)\n",
      "\t26) GLOBAL MARKETS-U.S. yield hits 4-year high; stocks fall on tech sector (2018-04-20)\n",
      "\t28) GLOBAL MARKETS-Tech weakness drags on stocks; oil recovers after Trump remarks (2018-04-20)\n",
      "\t30) US STOCKS-Wall St falls on investor nerves about tech, interest rates (2018-04-20)\n",
      "\t31) US STOCKS-Apple, bond concerns lead Wall Street slide (2018-04-20)\n",
      "\t32) GLOBAL MARKETS-Stocks dip on oil, tech weakness; oil slips after Trump remarks (2018-04-20)\n",
      "\t33) GLOBAL MARKETS-Stocks dip on tech worries, oil slides after Trump tweet (2018-04-20)\n",
      "19) TSMC's smartphone warning points squarely at Apple: analysts (2018-04-19)\n",
      "\t27) Tech tumbles ahead of crucial week for quarterly results (2018-04-20)\n",
      "\t29) Tech tumbles ahead of crucial week for quarterly results (2018-04-20)\n",
      "20) TSMC trims full-year revenue estimate on weaker smartphone demand (2018-04-19)\n",
      "34) Apple sensor supplier AMS warns of second-quarter slowdown (2018-04-23)\n",
      "\t43) Face-recognition chipmaker AMS hit by Apple order delays (2018-04-24)\n",
      "\t44) Face-recognition chipmaker AMS hit by Apple order delays (2018-04-24)\n",
      "\t48) UPDATE 2-STMicro sends upbeat signal on smartphone demand in second half (2018-04-25)\n",
      "\t50) CORRECTED-UPDATE 1-STMicro sends upbeat signal on smartphone demand in second half (2018-04-25)\n",
      "35) EU opens competition probe into Apple's bid for music app Shazam (2018-04-23)\n",
      "\t36) UPDATE 1-EU opens competition probe into Apple's bid for music app Shazam (2018-04-23)\n",
      "37) Nikkei fall as index-heavy stocks weaken; Apple suppliers underperform (2018-04-23)\n",
      "\t39) US STOCKS-FAANG, industrial stocks hit Wall Street (2018-04-24)\n",
      "\t42) GLOBAL MARKETS-Stocks retreat as U.S. 10-year yields top 3 percent (2018-04-24)\n",
      "38) Apple shares drop on more warnings from iPhone supply chain (2018-04-24)\n",
      "\t45) REFILE-GLOBAL MARKETS-Google helps stock markets recover, oil tops $75 (2018-04-24)\n",
      "\t49) STMicro sends upbeat signal on smartphone demand in second half (2018-04-25)\n",
      "40) Ireland expects Apple EU tax appeal to be heard before end of year (2018-04-24)\n",
      "\t41) UPDATE 2-Ireland expects Apple EU tax appeal to be heard before end of year (2018-04-24)\n",
      "46) UPDATE 4-Trump, top aides talk trade with Apple CEO Cook at White House (2018-04-25)\n",
      "47) Trump, Apple CEO to meet as U.S.-China trade row roils tech sector (2018-04-25)\n",
      "51) BE Semiconductor Industries upbeat on growth prospects (2018-04-26)\n",
      "52) UPDATE 1-Investors look to Apple's cash, services as iPhone sales seen stalling (2018-04-30)\n",
      "\t54) Broadcom says weak wireless chip demand to hurt revenue forecast (2018-04-30)\n",
      "\t55) UPDATE 1-Broadcom says weak wireless chip demand to hurt revenue forecast (2018-04-30)\n",
      "\t56) Broadcom says weak wireless chip demand to hurt revenue forecast (2018-04-30)\n",
      "53) Tax repatriation may explain drop in Irish holdings of U.S. Treasury bonds (2018-04-30)\n"
     ]
    }
   ],
   "source": [
    "# Standard library\n",
    "import datetime\n",
    "from collections import defaultdict\n",
    "\n",
    "# Third-party\n",
    "import spacy\n",
    "import requests\n",
    "import numpy as np\n",
    "from lxml import html\n",
    "from sklearn.metrics.pairwise import cosine_similarity\n",
    "from sklearn.feature_extraction.text import TfidfVectorizer\n",
    "\n",
    "with open(\"glove.6B/glove.6B.50d.txt\", \"r\") as lines:\n",
    "    W2V = {line.split()[0]: np.array([float(i) for i in line.split()[1:]])\n",
    "           for line in lines}\n",
    "    \n",
    "NLP = spacy.load('en_core_web_sm')\n",
    "\n",
    "def tokenize(text, lower=True):\n",
    "    if lower:\n",
    "        text = text.lower()\n",
    "    doc = NLP(text)\n",
    "    return [token.text for token in doc]\n",
    "\n",
    "class TfidfEmbeddingVectorizer(object):\n",
    "    def __init__(self, word2vec):\n",
    "        self.word2vec = word2vec\n",
    "        self.word2weight = None\n",
    "        self.dim = len(next(iter(word2vec.values())))\n",
    "    def fit(self, X):\n",
    "        tfidf = TfidfVectorizer(analyzer=lambda x: x)\n",
    "        tfidf.fit(X)\n",
    "        max_idf = max(tfidf.idf_)\n",
    "        self.word2weight = defaultdict(\n",
    "            lambda: max_idf,\n",
    "            [(w, tfidf.idf_[i]) for w, i in tfidf.vocabulary_.items()])\n",
    "    def transform(self, X):\n",
    "        return np.array([\n",
    "                np.mean([self.word2vec[w] * self.word2weight[w]\n",
    "                         for w in words if w in self.word2vec] or\n",
    "                        [np.zeros(self.dim)], axis=0)\n",
    "                for words in X\n",
    "            ])\n",
    "\n",
    "def get_ticker_headlines(ticker, date, \n",
    "                         base_url=('https://www.reuters.com/finance/stocks/'\n",
    "                                   'company-news/%s?date=%s')):\n",
    "    str_date = date.strftime('%m%d%Y')\n",
    "    url = base_url % (ticker, str_date)\n",
    "    res = requests.get(url)\n",
    "    tree = html.fromstring(res.content)\n",
    "    headlines = []\n",
    "    for div in tree.xpath('//div[@class=\"feature\"]'):\n",
    "        headline = list(div.itertext())[0]\n",
    "        headlines.append({'original': headline,\n",
    "                          'tokenized': tokenize(headline),\n",
    "                          'date': date})\n",
    "    return headlines\n",
    "\n",
    "def get_all_headlines(tickers,\n",
    "                      start=datetime.datetime(2018, 4, 1), \n",
    "                      days=30):\n",
    "    total = []\n",
    "    for ticker in tickers:\n",
    "        for day in range(days):\n",
    "            date = start + datetime.timedelta(day)\n",
    "            headlines = get_ticker_headlines(ticker, date)\n",
    "            if headlines:\n",
    "                total += headlines\n",
    "    return sorted(total, key=lambda x: x['date'])\n",
    "\n",
    "def get_similarities(total):\n",
    "    vect = TfidfEmbeddingVectorizer(word2vec=W2V)\n",
    "    tokenized = [i['tokenized'] for i in total]\n",
    "    vect.fit(tokenized)\n",
    "    transformed = vect.transform(tokenized)\n",
    "    return cosine_similarity(transformed, transformed)\n",
    "\n",
    "def cluster(headlines, sims, threshold=0.89, tolerance_days=3):\n",
    "    done = set()\n",
    "    for num1 in range(len(headlines) - 1):\n",
    "        if num1 not in done:\n",
    "            print('%d) %s (%s)' % (num1, headlines[num1]['original'], \n",
    "                                   headlines[num1]['date'].date()))\n",
    "            done.add(num1)\n",
    "        for num2 in range(num1 + 1, len(headlines)):\n",
    "            diff = (headlines[num1]['date'] - headlines[num2]['date']).days\n",
    "            if sims[num1][num2] > threshold and \\\n",
    "                    num2 not in done and \\\n",
    "                    abs(diff) < tolerance_days:\n",
    "                print('\\t%d) %s (%s)' % (num2, headlines[num2]['original'], \n",
    "                                         headlines[num2]['date'].date()))\n",
    "                done.add(num2)\n",
    "            \n",
    "headlines = get_all_headlines(tickers=['AAPL.O'])\n",
    "sims = get_similarities(headlines)\n",
    "cluster(headlines, sims)"
   ]
  },
  {
   "cell_type": "code",
   "execution_count": null,
   "metadata": {
    "collapsed": true
   },
   "outputs": [],
   "source": []
  }
 ],
 "metadata": {
  "kernelspec": {
   "display_name": "Python 3",
   "language": "python",
   "name": "python3"
  },
  "language_info": {
   "codemirror_mode": {
    "name": "ipython",
    "version": 3
   },
   "file_extension": ".py",
   "mimetype": "text/x-python",
   "name": "python",
   "nbconvert_exporter": "python",
   "pygments_lexer": "ipython3",
   "version": "3.6.0"
  }
 },
 "nbformat": 4,
 "nbformat_minor": 2
}
