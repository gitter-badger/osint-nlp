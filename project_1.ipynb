{
 "cells": [
  {
   "cell_type": "markdown",
   "metadata": {},
   "source": [
    "## Research Project 1\n",
    "```text\n",
    "- Source: Reuters\n",
    "- Goal: Scrape news about Apple Inc, cluster them\n",
    "- Techniques: TFIDF, Word Embeddings, Cosine Similarity\n",
    "- Tools: Word2Vec```"
   ]
  },
  {
   "cell_type": "code",
   "execution_count": 91,
   "metadata": {
    "collapsed": false
   },
   "outputs": [],
   "source": [
    "# Standard library\n",
    "import datetime\n",
    "from pprint import PrettyPrinter\n",
    "\n",
    "# Third-party\n",
    "import requests\n",
    "import numpy as np\n",
    "from lxml import html"
   ]
  },
  {
   "cell_type": "code",
   "execution_count": 92,
   "metadata": {
    "collapsed": true
   },
   "outputs": [],
   "source": [
    "pp = PrettyPrinter(width=120)\n",
    "with open(\"glove.6B/glove.6B.50d.txt\", \"rb\") as lines:\n",
    "    w2v = {line.split()[0]: np.array(map(float, line.split()[1:]))\n",
    "           for line in lines}"
   ]
  },
  {
   "cell_type": "code",
   "execution_count": 94,
   "metadata": {
    "collapsed": false
   },
   "outputs": [],
   "source": [
    "def get_ticker_headlines(ticker, date):\n",
    "    str_date = date.strftime('%m%d%Y')\n",
    "    url = 'https://www.reuters.com/finance/stocks/company-news/%s?date=%s' % (ticker, str_date)\n",
    "    res = requests.get(url)\n",
    "    tree = html.fromstring(res.content)\n",
    "    headlines = []\n",
    "    for div in tree.xpath('//div[@class=\"feature\"]'):\n",
    "        headline = list(div.itertext())[0]\n",
    "        headlines.append(headline)\n",
    "    return headlines\n",
    "\n",
    "class TfidfEmbeddingVectorizer(object):\n",
    "    def __init__(self, word2vec):\n",
    "        self.word2vec = word2vec\n",
    "        self.word2weight = None\n",
    "        self.dim = len(word2vec.itervalues().next())\n",
    "    def fit(self, X, y):\n",
    "        tfidf = TfidfVectorizer(analyzer=lambda x: x)\n",
    "        tfidf.fit(X)\n",
    "        max_idf = max(tfidf.idf_)\n",
    "        self.word2weight = defaultdict(\n",
    "            lambda: max_idf,\n",
    "            [(w, tfidf.idf_[i]) for w, i in tfidf.vocabulary_.items()])\n",
    "    def transform(self, X):\n",
    "        return np.array([\n",
    "                np.mean([self.word2vec[w] * self.word2weight[w]\n",
    "                         for w in words if w in self.word2vec] or\n",
    "                        [np.zeros(self.dim)], axis=0)\n",
    "                for words in X\n",
    "            ])"
   ]
  },
  {
   "cell_type": "code",
   "execution_count": 90,
   "metadata": {
    "collapsed": false,
    "scrolled": false
   },
   "outputs": [
    {
     "name": "stdout",
     "output_type": "stream",
     "text": [
      "{'2018-04-02': ['UPDATE 3-Apple plans to replace Intel chips in Macs with its own -Bloomberg'],\n",
      " '2018-04-03': ['Apple discloses gender pay gap at UK operations',\n",
      "                'BRIEF-Apple Reports Mean Pay Gap In UK Is 5 Pct Lower For Women',\n",
      "                'Tech, trade fears weighed on European shares',\n",
      "                'UPDATE 2-Tech, trade fears weighed on European shares',\n",
      "                'BOLSAS EUROPA-Tecnológicas, receios comércio pesam nas acções europeias'],\n",
      " '2018-04-04': ['Apple Pay arrives in Brazil, partnering with Itaú Unibanco',\n",
      "                'Apple Pay arrives in Brazil, partnering with Itaú Unibanco'],\n",
      " '2018-04-06': ['Apple says repeal of U.S. EPA carbon plan would threaten investments'],\n",
      " '2018-04-09': ['Apple says all its facilities now powered by clean energy',\n",
      "                'BRIEF-Apple Introduces iPhone 8 And iPhone 8 Plus Red Special Edition',\n",
      "                'Xiaomi pushes for smartphone component suppliers to invest in India',\n",
      "                'UPDATE 1-Xiaomi pushes for smartphone component suppliers to invest in India'],\n",
      " '2018-04-10': ['Apple adds Isaac Asimov sci-fi series to TV development list'],\n",
      " '2018-04-11': ['CORRECTED-Apple Music appoints new head, hits 48 mln subscribers'],\n",
      " '2018-04-16': [\"EXCLUSIVE-BlackRock's biggest stock-picking fund likes Facebook shares\"],\n",
      " '2018-04-17': [\"RPT-EXCLUSIVE-BlackRock's biggest stock-picking fund likes Facebook shares\"],\n",
      " '2018-04-19': ['US STOCKS-Tobacco and tech drag on Wall St; yields boost banks',\n",
      "                'US STOCKS-Tobacco and tech push Wall St down; yields boost banks',\n",
      "                \"TSMC's smartphone warning points squarely at Apple: analysts\",\n",
      "                'TSMC trims full-year revenue estimate on weaker smartphone demand',\n",
      "                'US STOCKS-Apple, Philip Morris, chip stocks lead Wall Street slide',\n",
      "                'US STOCKS-Apple, P&G and chip stocks lead Wall St lower',\n",
      "                'US STOCKS SNAPSHOT-Wall Street opens lower as chip stocks, Apple drag',\n",
      "                'US STOCKS-Wall St eyes lower opening as chip stocks, Apple drop'],\n",
      " '2018-04-20': ['U.S. yield hits four-year high; stocks fall on tech sector',\n",
      "                'GLOBAL MARKETS-U.S. yield hits 4-year high; stocks fall on tech sector',\n",
      "                'Tech tumbles ahead of crucial week for quarterly results',\n",
      "                'GLOBAL MARKETS-Tech weakness drags on stocks; oil recovers after Trump remarks',\n",
      "                'Tech tumbles ahead of crucial week for quarterly results',\n",
      "                'US STOCKS-Wall St falls on investor nerves about tech, interest rates',\n",
      "                'US STOCKS-Apple, bond concerns lead Wall Street slide',\n",
      "                'GLOBAL MARKETS-Stocks dip on oil, tech weakness; oil slips after Trump remarks',\n",
      "                'GLOBAL MARKETS-Stocks dip on tech worries, oil slides after Trump tweet'],\n",
      " '2018-04-23': ['Apple sensor supplier AMS warns of second-quarter slowdown',\n",
      "                \"EU opens competition probe into Apple's bid for music app Shazam\",\n",
      "                \"UPDATE 1-EU opens competition probe into Apple's bid for music app Shazam\",\n",
      "                'Nikkei fall as index-heavy stocks weaken; Apple suppliers underperform'],\n",
      " '2018-04-24': ['Apple shares drop on more warnings from iPhone supply chain',\n",
      "                'US STOCKS-FAANG, industrial stocks hit Wall Street',\n",
      "                'Ireland expects Apple EU tax appeal to be heard before end of year',\n",
      "                'UPDATE 2-Ireland expects Apple EU tax appeal to be heard before end of year',\n",
      "                'GLOBAL MARKETS-Stocks retreat as U.S. 10-year yields top 3 percent',\n",
      "                'Face-recognition chipmaker AMS hit by Apple order delays',\n",
      "                'Face-recognition chipmaker AMS hit by Apple order delays',\n",
      "                'REFILE-GLOBAL MARKETS-Google helps stock markets recover, oil tops $75'],\n",
      " '2018-04-25': ['UPDATE 4-Trump, top aides talk trade with Apple CEO Cook at White House',\n",
      "                'Trump, Apple CEO to meet as U.S.-China trade row roils tech sector',\n",
      "                'UPDATE 2-STMicro sends upbeat signal on smartphone demand in second half',\n",
      "                'STMicro sends upbeat signal on smartphone demand in second half',\n",
      "                'CORRECTED-UPDATE 1-STMicro sends upbeat signal on smartphone demand in second half'],\n",
      " '2018-04-26': ['BE Semiconductor Industries upbeat on growth prospects'],\n",
      " '2018-04-30': [\"UPDATE 1-Investors look to Apple's cash, services as iPhone sales seen stalling\",\n",
      "                'Tax repatriation may explain drop in Irish holdings of U.S. Treasury bonds',\n",
      "                'Broadcom says weak wireless chip demand to hurt revenue forecast',\n",
      "                'UPDATE 1-Broadcom says weak wireless chip demand to hurt revenue forecast',\n",
      "                'Broadcom says weak wireless chip demand to hurt revenue forecast']}\n"
     ]
    }
   ],
   "source": [
    "total = {}\n",
    "start = datetime.datetime(2018, 4, 1)\n",
    "for day in range(30):\n",
    "    date = start + datetime.timedelta(day)\n",
    "    headlines = get_ticker_headlines('AAPL.O', date)\n",
    "    if headlines:\n",
    "        total[date.strftime('%Y-%m-%d')] = headlines\n",
    "pp.pprint(total)"
   ]
  },
  {
   "cell_type": "code",
   "execution_count": 95,
   "metadata": {
    "collapsed": false
   },
   "outputs": [
    {
     "ename": "AttributeError",
     "evalue": "'dict' object has no attribute 'itervalues'",
     "output_type": "error",
     "traceback": [
      "\u001b[0;31m---------------------------------------------------------------------------\u001b[0m",
      "\u001b[0;31mAttributeError\u001b[0m                            Traceback (most recent call last)",
      "\u001b[0;32m<ipython-input-95-22337806b54e>\u001b[0m in \u001b[0;36m<module>\u001b[0;34m()\u001b[0m\n\u001b[0;32m----> 1\u001b[0;31m \u001b[0mvect\u001b[0m \u001b[0;34m=\u001b[0m \u001b[0mTfidfEmbeddingVectorizer\u001b[0m\u001b[0;34m(\u001b[0m\u001b[0mword2vec\u001b[0m\u001b[0;34m=\u001b[0m\u001b[0mw2v\u001b[0m\u001b[0;34m)\u001b[0m\u001b[0;34m\u001b[0m\u001b[0m\n\u001b[0m",
      "\u001b[0;32m<ipython-input-94-fab2fa0b30fa>\u001b[0m in \u001b[0;36m__init__\u001b[0;34m(self, word2vec)\u001b[0m\n\u001b[1;32m     14\u001b[0m         \u001b[0mself\u001b[0m\u001b[0;34m.\u001b[0m\u001b[0mword2vec\u001b[0m \u001b[0;34m=\u001b[0m \u001b[0mword2vec\u001b[0m\u001b[0;34m\u001b[0m\u001b[0m\n\u001b[1;32m     15\u001b[0m         \u001b[0mself\u001b[0m\u001b[0;34m.\u001b[0m\u001b[0mword2weight\u001b[0m \u001b[0;34m=\u001b[0m \u001b[0;32mNone\u001b[0m\u001b[0;34m\u001b[0m\u001b[0m\n\u001b[0;32m---> 16\u001b[0;31m         \u001b[0mself\u001b[0m\u001b[0;34m.\u001b[0m\u001b[0mdim\u001b[0m \u001b[0;34m=\u001b[0m \u001b[0mlen\u001b[0m\u001b[0;34m(\u001b[0m\u001b[0mword2vec\u001b[0m\u001b[0;34m.\u001b[0m\u001b[0mitervalues\u001b[0m\u001b[0;34m(\u001b[0m\u001b[0;34m)\u001b[0m\u001b[0;34m.\u001b[0m\u001b[0mnext\u001b[0m\u001b[0;34m(\u001b[0m\u001b[0;34m)\u001b[0m\u001b[0;34m)\u001b[0m\u001b[0;34m\u001b[0m\u001b[0m\n\u001b[0m\u001b[1;32m     17\u001b[0m     \u001b[0;32mdef\u001b[0m \u001b[0mfit\u001b[0m\u001b[0;34m(\u001b[0m\u001b[0mself\u001b[0m\u001b[0;34m,\u001b[0m \u001b[0mX\u001b[0m\u001b[0;34m,\u001b[0m \u001b[0my\u001b[0m\u001b[0;34m)\u001b[0m\u001b[0;34m:\u001b[0m\u001b[0;34m\u001b[0m\u001b[0m\n\u001b[1;32m     18\u001b[0m         \u001b[0mtfidf\u001b[0m \u001b[0;34m=\u001b[0m \u001b[0mTfidfVectorizer\u001b[0m\u001b[0;34m(\u001b[0m\u001b[0manalyzer\u001b[0m\u001b[0;34m=\u001b[0m\u001b[0;32mlambda\u001b[0m \u001b[0mx\u001b[0m\u001b[0;34m:\u001b[0m \u001b[0mx\u001b[0m\u001b[0;34m)\u001b[0m\u001b[0;34m\u001b[0m\u001b[0m\n",
      "\u001b[0;31mAttributeError\u001b[0m: 'dict' object has no attribute 'itervalues'"
     ]
    }
   ],
   "source": [
    "vect = TfidfEmbeddingVectorizer(word2vec=w2v)"
   ]
  },
  {
   "cell_type": "code",
   "execution_count": null,
   "metadata": {
    "collapsed": false
   },
   "outputs": [],
   "source": []
  },
  {
   "cell_type": "code",
   "execution_count": null,
   "metadata": {
    "collapsed": true
   },
   "outputs": [],
   "source": []
  }
 ],
 "metadata": {
  "kernelspec": {
   "display_name": "Python 3",
   "language": "python",
   "name": "python3"
  },
  "language_info": {
   "codemirror_mode": {
    "name": "ipython",
    "version": 3
   },
   "file_extension": ".py",
   "mimetype": "text/x-python",
   "name": "python",
   "nbconvert_exporter": "python",
   "pygments_lexer": "ipython3",
   "version": "3.6.0"
  }
 },
 "nbformat": 4,
 "nbformat_minor": 2
}
