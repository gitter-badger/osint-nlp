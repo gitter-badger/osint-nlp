{
 "cells": [
  {
   "cell_type": "markdown",
   "metadata": {},
   "source": [
    "## Research Project 3\n",
    "```text\n",
    "- Source: SEC\n",
    "- Goal: Extract compensat\n",
    "- Techniques: Regular Expressions, Probabilistic Context Free Grammar\n",
    "- Tools: re, duckling```"
   ]
  },
  {
   "cell_type": "code",
   "execution_count": 49,
   "metadata": {
    "collapsed": false
   },
   "outputs": [],
   "source": [
    "# Standard library\n",
    "import datetime\n",
    "\n",
    "# Third-party\n",
    "import gensim\n",
    "import requests\n",
    "from lxml import html"
   ]
  },
  {
   "cell_type": "code",
   "execution_count": 52,
   "metadata": {
    "collapsed": true
   },
   "outputs": [],
   "source": [
    "def get_ticker_headlines(ticker, date):\n",
    "    str_date = date.strftime('%m%d%Y')\n",
    "    url = 'https://www.reuters.com/finance/stocks/company-news/%s?date=%s' % (ticker, str_date)\n",
    "    res = requests.get(url)\n",
    "    tree = html.fromstring(res.content)\n",
    "    headlines = []\n",
    "    for div in tree.xpath('//div[@class=\"feature\"]'):\n",
    "        headline = list(div.itertext())[0]\n",
    "        clean = [i for i in headline.split('-') if not i.isupper()]\n",
    "        headlines.append('-'.join(clean))\n",
    "    return headlines"
   ]
  },
  {
   "cell_type": "code",
   "execution_count": 55,
   "metadata": {
    "collapsed": false
   },
   "outputs": [
    {
     "name": "stdout",
     "output_type": "stream",
     "text": [
      "2018-04-02 - Apple plans to replace Intel chips in Macs with its own -Bloomberg\n",
      "2018-04-03 - Apple discloses gender pay gap at UK operations\n",
      "2018-04-03 - Apple Reports Mean Pay Gap In UK Is 5 Pct Lower For Women\n",
      "2018-04-03 - Tech, trade fears weighed on European shares\n",
      "2018-04-03 - Tecnológicas, receios comércio pesam nas acções europeias\n",
      "2018-04-04 - Apple Pay arrives in Brazil, partnering with Itaú Unibanco\n",
      "2018-04-06 - Apple says repeal of U.S. EPA carbon plan would threaten investments\n",
      "2018-04-09 - Apple says all its facilities now powered by clean energy\n",
      "2018-04-09 - Apple Introduces iPhone 8 And iPhone 8 Plus Red Special Edition\n",
      "2018-04-09 - Xiaomi pushes for smartphone component suppliers to invest in India\n",
      "2018-04-10 - Apple adds Isaac Asimov sci-fi series to TV development list\n",
      "2018-04-11 - Apple Music appoints new head, hits 48 mln subscribers\n",
      "2018-04-16 - BlackRock's biggest stock-picking fund likes Facebook shares\n",
      "2018-04-19 - Tobacco and tech drag on Wall St; yields boost banks\n",
      "2018-04-19 - Tobacco and tech push Wall St down; yields boost banks\n",
      "2018-04-19 - TSMC's smartphone warning points squarely at Apple: analysts\n",
      "2018-04-19 - TSMC trims full-year revenue estimate on weaker smartphone demand\n",
      "2018-04-19 - Apple, Philip Morris, chip stocks lead Wall Street slide\n",
      "2018-04-19 - Apple, P&G and chip stocks lead Wall St lower\n",
      "2018-04-19 - Wall Street opens lower as chip stocks, Apple drag\n",
      "2018-04-19 - Wall St eyes lower opening as chip stocks, Apple drop\n",
      "2018-04-20 - U.S. yield hits four-year high; stocks fall on tech sector\n",
      "2018-04-20 - U.S. yield hits 4-year high; stocks fall on tech sector\n",
      "2018-04-20 - Tech tumbles ahead of crucial week for quarterly results\n",
      "2018-04-20 - Tech weakness drags on stocks; oil recovers after Trump remarks\n",
      "2018-04-20 - Wall St falls on investor nerves about tech, interest rates\n",
      "2018-04-20 - Apple, bond concerns lead Wall Street slide\n",
      "2018-04-20 - Stocks dip on oil, tech weakness; oil slips after Trump remarks\n",
      "2018-04-20 - Stocks dip on tech worries, oil slides after Trump tweet\n",
      "2018-04-23 - Apple sensor supplier AMS warns of second-quarter slowdown\n",
      "2018-04-23 - EU opens competition probe into Apple's bid for music app Shazam\n",
      "2018-04-23 - Nikkei fall as index-heavy stocks weaken; Apple suppliers underperform\n",
      "2018-04-24 - Apple shares drop on more warnings from iPhone supply chain\n",
      "2018-04-24 - FAANG, industrial stocks hit Wall Street\n",
      "2018-04-24 - Ireland expects Apple EU tax appeal to be heard before end of year\n",
      "2018-04-24 - Stocks retreat as U.S. 10-year yields top 3 percent\n",
      "2018-04-24 - Face-recognition chipmaker AMS hit by Apple order delays\n",
      "2018-04-24 - Google helps stock markets recover, oil tops $75\n",
      "2018-04-25 - Trump, top aides talk trade with Apple CEO Cook at White House\n",
      "2018-04-25 - Trump, Apple CEO to meet as U.S.-China trade row roils tech sector\n",
      "2018-04-25 - STMicro sends upbeat signal on smartphone demand in second half\n",
      "2018-04-26 - BE Semiconductor Industries upbeat on growth prospects\n",
      "2018-04-30 - Breakingviews - Apple may double capital returned to investors\n",
      "2018-04-30 - Investors look to Apple's cash, services as iPhone sales seen stalling\n",
      "2018-04-30 - Tax repatriation may explain drop in Irish holdings of U.S. Treasury bonds\n",
      "2018-04-30 - Broadcom says weak wireless chip demand to hurt revenue forecast\n"
     ]
    }
   ],
   "source": [
    "total = set()\n",
    "today = datetime.datetime(2018, 4, 1)\n",
    "for day in range(30):\n",
    "    date = today + datetime.timedelta(day)\n",
    "    headlines = get_ticker_headlines('AAPL.O', date)\n",
    "    for headline in headlines:\n",
    "        if headline not in total:\n",
    "            total.add(headline)\n",
    "            print(str(date.date()) + ' - ' + headline)"
   ]
  },
  {
   "cell_type": "code",
   "execution_count": null,
   "metadata": {
    "collapsed": false
   },
   "outputs": [],
   "source": []
  },
  {
   "cell_type": "code",
   "execution_count": null,
   "metadata": {
    "collapsed": true
   },
   "outputs": [],
   "source": []
  }
 ],
 "metadata": {
  "kernelspec": {
   "display_name": "Python 3",
   "language": "python",
   "name": "python3"
  },
  "language_info": {
   "codemirror_mode": {
    "name": "ipython",
    "version": 3
   },
   "file_extension": ".py",
   "mimetype": "text/x-python",
   "name": "python",
   "nbconvert_exporter": "python",
   "pygments_lexer": "ipython3",
   "version": "3.6.0"
  }
 },
 "nbformat": 4,
 "nbformat_minor": 2
}
