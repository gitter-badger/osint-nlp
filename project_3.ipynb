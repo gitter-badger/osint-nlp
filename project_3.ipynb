{
 "cells": [
  {
   "cell_type": "markdown",
   "metadata": {},
   "source": [
    "## Research Project 3\n",
    "```text\n",
    "- Source: SEC\n",
    "- Goal: Extract information from HTML tables\n",
    "- Techniques: HTML parsing, NER, Dataframes\n",
    "- Tools: Beautifulsoup, pandas, spacy\n",
    "- Lines of code: ~100```"
   ]
  },
  {
   "cell_type": "code",
   "execution_count": 1,
   "metadata": {
    "collapsed": false
   },
   "outputs": [],
   "source": [
    "# Standard library\n",
    "import datetime\n",
    "\n",
    "# Third-party\n",
    "import re\n",
    "import spacy\n",
    "import gensim\n",
    "import requests\n",
    "import numpy as np\n",
    "import pandas as pd\n",
    "from lxml import html, etree\n",
    "from bs4 import BeautifulSoup, Tag"
   ]
  },
  {
   "cell_type": "code",
   "execution_count": 2,
   "metadata": {
    "collapsed": true
   },
   "outputs": [],
   "source": [
    "nlp = spacy.load('en_core_web_sm')"
   ]
  },
  {
   "cell_type": "code",
   "execution_count": 3,
   "metadata": {
    "collapsed": true
   },
   "outputs": [],
   "source": [
    "class Extractor(object):\n",
    "    \n",
    "    def __init__(self, table, id_=None, **kwargs):\n",
    "        if isinstance(table, Tag):\n",
    "            self._table = table.find(id=id_)\n",
    "        elif isinstance(table, bytes) or isinstance(table, str):\n",
    "            self._table = BeautifulSoup(table, 'html.parser').find(id=id_)\n",
    "        else:\n",
    "            raise Exception('unrecognized type')\n",
    "        self._output = []\n",
    "        \n",
    "    def parse(self):\n",
    "        self._output = []\n",
    "        row_ind = 0\n",
    "        col_ind = 0\n",
    "        for row in self._table.find_all('tr'):\n",
    "            smallest_row_span = 1\n",
    "            for cell in row.children:\n",
    "                if cell.name in ('td', 'th'):\n",
    "                    row_span = int(cell.get('rowspan')) if cell.get('rowspan') else 1\n",
    "                    smallest_row_span = min(smallest_row_span, row_span)\n",
    "                    col_span = int(cell.get('colspan')) if cell.get('colspan') else 1\n",
    "                    while True:\n",
    "                        if self._check_cell_validity(row_ind, col_ind):\n",
    "                            break\n",
    "                        col_ind += 1\n",
    "                    self._insert(row_ind, col_ind, row_span, col_span, str(cell.get_text()))\n",
    "                    col_ind += col_span\n",
    "            row_ind += smallest_row_span\n",
    "            col_ind = 0\n",
    "        return self\n",
    "\n",
    "    def return_list(self):\n",
    "        return self._output\n",
    "\n",
    "    def _check_validity(self, i, j, height, width):\n",
    "        return all(self._check_cell_validity(ii, jj) for ii in range(i, i+height) \n",
    "                   for jj in range(j, j+width))\n",
    "\n",
    "    def _check_cell_validity(self, i, j):\n",
    "        if i >= len(self._output):\n",
    "            return True\n",
    "        if j >= len(self._output[i]):\n",
    "            return True\n",
    "        if self._output[i][j] is None:\n",
    "            return True\n",
    "        return False\n",
    "\n",
    "    def _insert(self, i, j, height, width, val):\n",
    "        for ii in range(i, i+height):\n",
    "            for jj in range(j, j+width):\n",
    "                self._insert_cell(ii, jj, val)\n",
    "\n",
    "    def _insert_cell(self, i, j, val):\n",
    "        while i >= len(self._output):\n",
    "            self._output.append([])\n",
    "        while j >= len(self._output[i]):\n",
    "            self._output[i].append(None)\n",
    "        if self._output[i][j] is None:\n",
    "            self._output[i][j] = val\n",
    "\n",
    "def levenshtein_distance(s1, s2):\n",
    "    if len(s1) > len(s2):\n",
    "        s1, s2 = s2, s1\n",
    "    distances = range(len(s1) + 1)\n",
    "    for i2, c2 in enumerate(s2):\n",
    "        distances_ = [i2+1]\n",
    "        for i1, c1 in enumerate(s1):\n",
    "            if c1 == c2:\n",
    "                distances_.append(distances[i1])\n",
    "            else:\n",
    "                distances_.append(1 + min((distances[i1], distances[i1 + 1], distances_[-1])))\n",
    "        distances = distances_\n",
    "    return distances[-1]"
   ]
  },
  {
   "cell_type": "code",
   "execution_count": 4,
   "metadata": {
    "collapsed": false
   },
   "outputs": [],
   "source": [
    "url = 'https://www.sec.gov/Archives/edgar/data/789019/000119312517310951/d461626ddef14a.htm'\n",
    "res = requests.get(url)\n",
    "tree = html.fromstring(res.content)"
   ]
  },
  {
   "cell_type": "code",
   "execution_count": 197,
   "metadata": {
    "collapsed": false,
    "scrolled": false
   },
   "outputs": [],
   "source": [
    "dfs = []\n",
    "for table in tree.xpath('//table'):\n",
    "    table_string = re.sub(r'<br/?>', '\\n', str(etree.tostring(table)), flags=re.DOTALL)\n",
    "    extractor = Extractor(table_string)\n",
    "    extractor.parse()\n",
    "    parsed = [[i.replace('\\xa0', ' ').strip() for i in j] for j in extractor.return_list()]\n",
    "    parsed = [i for i in parsed if any(bool(j) for j in i)]\n",
    "    if parsed and parsed[0] and re.findall(r'^name', parsed[0][0], flags=re.IGNORECASE|re.DOTALL):\n",
    "        parsed[0] = [' '.join(i.split()).strip() for i in parsed[0]]\n",
    "        parsed[0] = [i.replace('\\\\n', ' ').strip() for i in parsed[0]]\n",
    "        parsed[1:] = [[i.replace(r'\\n', ', ').strip() for i in j] for j in parsed[1:]]\n",
    "        parsed = [[i if i else None for i in j] for j in parsed]\n",
    "        df = pd.DataFrame(parsed[1:], columns=parsed[0])\n",
    "        if df.ix[:,0].iloc[0].replace(',', '') == df.columns[0]:\n",
    "            df = df.iloc[1:]\n",
    "        df = df.dropna(axis=1, how='all')\n",
    "        df.columns = ['Name'] + df.columns.values.tolist()[1:]\n",
    "        dfs.append(df)"
   ]
  },
  {
   "cell_type": "code",
   "execution_count": 198,
   "metadata": {
    "collapsed": false,
    "scrolled": false
   },
   "outputs": [],
   "source": [
    "mapping = {None: None}\n",
    "\n",
    "for df in dfs:\n",
    "    for name in df['Name'].values:\n",
    "        if name is None:\n",
    "            continue\n",
    "        clean = re.sub(r'\\d+', '', name)\n",
    "        ents = [i.text for i in nlp(clean).ents if i.label_ == 'PERSON']\n",
    "        if not ents: ents = [name]\n",
    "        mapping[name] = ents[0]\n",
    "        \n",
    "for num, df in enumerate(dfs):\n",
    "    df['Name'] = df['Name'].apply(lambda x: mapping[x])\n",
    "    for num, row in enumerate(df.iterrows()):\n",
    "        if row[1]['Name'] is None and num > 0:\n",
    "            df.iloc[num]['Name'] = df.iloc[num - 1]['Name']"
   ]
  },
  {
   "cell_type": "code",
   "execution_count": 205,
   "metadata": {
    "collapsed": false,
    "scrolled": false
   },
   "outputs": [
    {
     "data": {
      "text/html": [
       "<div>\n",
       "<table border=\"1\" class=\"dataframe\">\n",
       "  <thead>\n",
       "    <tr style=\"text-align: right;\">\n",
       "      <th></th>\n",
       "      <th>Name</th>\n",
       "      <th>Year</th>\n",
       "      <th>Salary ($)</th>\n",
       "      <th>Bonus1 ($)</th>\n",
       "      <th>Stock awards2 ($)</th>\n",
       "      <th>Non-equity incentive plan compensation3 ($)</th>\n",
       "      <th>All other compensation4 ($)</th>\n",
       "      <th>Total ($)</th>\n",
       "    </tr>\n",
       "  </thead>\n",
       "  <tbody>\n",
       "    <tr>\n",
       "      <th>0</th>\n",
       "      <td>Satya Nadella</td>\n",
       "      <td>2017</td>\n",
       "      <td>1,450,000</td>\n",
       "      <td>N/A</td>\n",
       "      <td>11,434,557</td>\n",
       "      <td>7,032,406</td>\n",
       "      <td>97,189</td>\n",
       "      <td>20,014,152</td>\n",
       "    </tr>\n",
       "    <tr>\n",
       "      <th>3</th>\n",
       "      <td>Amy E. Hood</td>\n",
       "      <td>2017</td>\n",
       "      <td>852,917</td>\n",
       "      <td>N/A</td>\n",
       "      <td>7,015,071</td>\n",
       "      <td>3,624,896</td>\n",
       "      <td>89,260</td>\n",
       "      <td>11,582,144</td>\n",
       "    </tr>\n",
       "    <tr>\n",
       "      <th>6</th>\n",
       "      <td>Jean-Philippe</td>\n",
       "      <td>2017</td>\n",
       "      <td>751,054</td>\n",
       "      <td>N/A</td>\n",
       "      <td>14,735,4646</td>\n",
       "      <td>2,762,884</td>\n",
       "      <td>45,214</td>\n",
       "      <td>18,294,616</td>\n",
       "    </tr>\n",
       "    <tr>\n",
       "      <th>7</th>\n",
       "      <td>Margaret L. Johnson</td>\n",
       "      <td>2017</td>\n",
       "      <td>715,000</td>\n",
       "      <td>N/A</td>\n",
       "      <td>3,907,922</td>\n",
       "      <td>2,168,795</td>\n",
       "      <td>89,238</td>\n",
       "      <td>6,880,955</td>\n",
       "    </tr>\n",
       "    <tr>\n",
       "      <th>10</th>\n",
       "      <td>Bradford L. Smith</td>\n",
       "      <td>2017</td>\n",
       "      <td>785,833</td>\n",
       "      <td>N/A</td>\n",
       "      <td>6,193,370</td>\n",
       "      <td>3,241,543</td>\n",
       "      <td>98,989</td>\n",
       "      <td>10,319,735</td>\n",
       "    </tr>\n",
       "  </tbody>\n",
       "</table>\n",
       "</div>"
      ],
      "text/plain": [
       "                   Name  Year Salary ($) Bonus1 ($) Stock awards2 ($)  \\\n",
       "0         Satya Nadella  2017  1,450,000        N/A        11,434,557   \n",
       "3           Amy E. Hood  2017    852,917        N/A         7,015,071   \n",
       "6         Jean-Philippe  2017    751,054        N/A       14,735,4646   \n",
       "7   Margaret L. Johnson  2017    715,000        N/A         3,907,922   \n",
       "10    Bradford L. Smith  2017    785,833        N/A         6,193,370   \n",
       "\n",
       "   Non-equity incentive plan compensation3 ($) All other compensation4 ($)  \\\n",
       "0                                    7,032,406                      97,189   \n",
       "3                                    3,624,896                      89,260   \n",
       "6                                    2,762,884                      45,214   \n",
       "7                                    2,168,795                      89,238   \n",
       "10                                   3,241,543                      98,989   \n",
       "\n",
       "     Total ($)  \n",
       "0   20,014,152  \n",
       "3   11,582,144  \n",
       "6   18,294,616  \n",
       "7    6,880,955  \n",
       "10  10,319,735  "
      ]
     },
     "execution_count": 205,
     "metadata": {},
     "output_type": "execute_result"
    }
   ],
   "source": [
    "dfs[6]"
   ]
  },
  {
   "cell_type": "code",
   "execution_count": null,
   "metadata": {
    "collapsed": false,
    "scrolled": false
   },
   "outputs": [],
   "source": []
  },
  {
   "cell_type": "code",
   "execution_count": null,
   "metadata": {
    "collapsed": false
   },
   "outputs": [],
   "source": []
  },
  {
   "cell_type": "code",
   "execution_count": null,
   "metadata": {
    "collapsed": true
   },
   "outputs": [],
   "source": []
  }
 ],
 "metadata": {
  "kernelspec": {
   "display_name": "Python 3",
   "language": "python",
   "name": "python3"
  },
  "language_info": {
   "codemirror_mode": {
    "name": "ipython",
    "version": 3
   },
   "file_extension": ".py",
   "mimetype": "text/x-python",
   "name": "python",
   "nbconvert_exporter": "python",
   "pygments_lexer": "ipython3",
   "version": "3.6.0"
  }
 },
 "nbformat": 4,
 "nbformat_minor": 2
}
